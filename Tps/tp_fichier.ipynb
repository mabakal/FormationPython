{
 "cells": [
  {
   "attachments": {},
   "cell_type": "markdown",
   "metadata": {},
   "source": [
    "<h2>TP sur les fichiers</h2>"
   ]
  },
  {
   "attachments": {},
   "cell_type": "markdown",
   "metadata": {},
   "source": [
    "<h4> Question sur la compréhensionon du cours. </h4>"
   ]
  },
  {
   "cell_type": "code",
   "execution_count": null,
   "metadata": {},
   "outputs": [],
   "source": [
    "\"\"\" \n",
    "    1.Pourquoi est-il important de savoir comment travailler avec des fichiers en Python ?\n",
    "    2.Quels sont les différents modes d'ouverture de fichiers en Python et quand les utiliser?\n",
    "\"\"\""
   ]
  },
  {
   "cell_type": "code",
   "execution_count": null,
   "metadata": {},
   "outputs": [],
   "source": [
    "\"\"\" \n",
    "    3. Quels sont les étapes indispensable á suivre lorsqu'on travaille avec les fichiers\n",
    "    4. Qu'est-ce qu'un fichier en Python?\n",
    "\"\"\""
   ]
  },
  {
   "cell_type": "code",
   "execution_count": 2,
   "metadata": {},
   "outputs": [
    {
     "data": {
      "text/plain": [
       "\" \\n    5.Comment ouvrir un fichier en Python ?\\n    6.Quelle est la différence entre les modes d'ouverture 'r' et 'w' pour les fichiers en Python ?\\n    7.Comment écrire dans un fichier en Python ?\\n    8.Comment lire un fichier ligne par ligne en Python ?\\n    9.Comment lire le contenu entier d'un fichier en Python ?\\n    10.Comment fermer un fichier en Python ?\\n    11.Comment traiter les erreurs lors de la lecture ou de l'écriture de fichiers en Python ?\\n    12.Comment créer un nouveau fichier en Python ?\\n\""
      ]
     },
     "execution_count": 2,
     "metadata": {},
     "output_type": "execute_result"
    }
   ],
   "source": [
    "\"\"\" \n",
    "    5.Comment ouvrir un fichier en Python ?\n",
    "    6.Quelle est la différence entre les modes d'ouverture 'a' et 'w' pour les fichiers en Python ?\n",
    "    7.Comment écrire dans un fichier en Python ?\n",
    "    8.Comment lire un fichier ligne par ligne en Python?\n",
    "    9.Comment lire le contenu entier d'un fichier en Python?\n",
    "    10.Comment fermer un fichier en Python ?\n",
    "    11.Comment traiter les erreurs lors de la lecture ou de l'écriture de fichiers en Python ?\n",
    "    12.Comment créer un nouveau fichier en Python?\n",
    "\"\"\""
   ]
  },
  {
   "attachments": {},
   "cell_type": "markdown",
   "metadata": {},
   "source": [
    "<h4>Question sur la manipulation des fichiers</h4>"
   ]
  },
  {
   "cell_type": "code",
   "execution_count": 4,
   "metadata": {},
   "outputs": [
    {
     "name": "stdout",
     "output_type": "stream",
     "text": [
      "['BADJO, 200 DH, \"13-03-2023\", AAAA \\n', 'BADJO, 56789,fghjk,vghbj\\n']\n"
     ]
    }
   ],
   "source": [
    "\"\"\" \n",
    "13. Créez un fichier texte \"test.txt\" et écrivez-y une chaîne de caractères. Ensuite, ouvrez le fichier en mode lecture et affichez le contenu à l'écran.\n",
    "\n",
    "14. Écrivez un programme qui permet à l'utilisateur d'entrer du texte dans la console, puis enregistrez ce texte dans un fichier texte nommé \"saisie.txt\".\n",
    "\n",
    "15. Écrivez une fonction qui prend en entrée le nom d'un fichier et renvoie le nombre de lignes dans ce fichier.\n",
    "\n",
    "16. Écrivez une fonction qui prend en entrée le nom d'un fichier et renvoie la taille de ce fichier en octets.\n",
    "\n",
    "17. Écrivez une fonction qui prend en entrée le nom d'un fichier et une chaîne de caractères, et qui ajoute cette chaîne de caractères à la fin du fichier.\n",
    "\n",
    "18. Écrivez une fonction qui prend en entrée le nom d'un fichier et une chaîne de caractères, et qui remplace la première\n",
    "occurrence de cette chaîne de caractères par une autre chaîne de caractères spécifiée.\n",
    "\n",
    "19. Écrivez une fonction qui prend en entrée le nom d'un fichier et renvoie une liste de toutes\n",
    "les lignes dans le fichier qui contiennent un certain mot clé.\n",
    "\n",
    "20. Écrivez une fonction qui prend en entrée le nom d'un fichier et une liste de chaînes de caractères, et qui remplace toutes les occurrences de chaque chaîne de caractères dans le fichier par une autre chaîne de caractères spécifiée.\n",
    "\n",
    "21. Écrivez une fonction qui prend en entrée le nom d'un fichier texte et un délimiteur de champ (par exemple, une virgule),\n",
    "et qui renvoie une liste de tuples représentant les données dans le fichier, où chaque tuple contient les champs dans une ligne du fichier.\n",
    "\"\"\"\n",
    "\n",
    "def commande(nom_fichier, mot_cle):\n",
    "    # overture du fichier\n",
    "    f = open(\"commande.txt\", \"r\")\n",
    "    # parcourir le fichier\n",
    "    renvoi = []\n",
    "    for l in f:\n",
    "        if mot_cle in l:\n",
    "            renvoi.append(l)\n",
    "    return renvoi\n",
    "print(commande(\"commande.txt\", \"BADJO\"))"
   ]
  },
  {
   "attachments": {},
   "cell_type": "markdown",
   "metadata": {},
   "source": [
    "<h4>Problème réels de l'utilisation des fichiers</h4>"
   ]
  },
  {
   "cell_type": "code",
   "execution_count": null,
   "metadata": {},
   "outputs": [],
   "source": [
    "\"\"\" \n",
    "1. Écrire un programme qui analyse un fichier CSV de données de ventes pour une entreprise et renvoie le chiffre d'affaires total,\n",
    "la quantité totale de produits vendus et la moyenne des prix de vente.\n",
    "\n",
    "2. Écrire un programme qui lit un fichier de texte contenant des données de clients pour une entreprise, puis crée un fichier Excel\n",
    "avec les informations de contact de chaque client (nom, adresse, numéro de téléphone, adresse e-mail).\n",
    "\n",
    "3. Écrire un programme qui analyse les fichiers de journalisation du serveur Web d'une entreprise pour déterminer le nombre total \n",
    "de demandes de page, le nombre de pages consultées par visiteur et le temps de réponse moyen du serveur.\n",
    "\n",
    "4. Écrire un programme qui analyse un fichier de données de ventes de billets d'avion pour une compagnie aérienne,\n",
    "puis crée des graphiques et des tableaux récapitulatifs montrant les destinations les plus populaires, les jours les plus fréquentés pour voyager, etc.\n",
    "\n",
    "5. Écrire un programme qui lit un fichier de données de stock pour un magasin de détail et génère des rapports de stock basés \n",
    "sur des critères tels que le nombre de produits vendus, le stock restant, la date d'expiration, etc.\n",
    "\n",
    "6. Écrire un programme qui analyse les fichiers de données de facturation d'une entreprise de services publics,\n",
    "puis calcule les coûts moyens de chaque service pour chaque client, afin de déterminer les clients les plus rentables et ceux qui utilisent le plus d'énergie.\n",
    "\n",
    "7. Écrire un programme qui lit un fichier de données de projets pour une entreprise de développement de logiciels,\n",
    "puis calcule la durée totale des projets, le nombre de projets en cours, le coût total des projets, etc.\n",
    "\n",
    "9. Écrire un programme qui lit un fichier de données de commandes pour un restaurant, puis génère des rapports \n",
    "de vente basés sur des critères tels que le temps de commande, le type de plat, la quantité, etc.\n",
    "\n",
    "10. Écrire un programme qui analyse les fichiers de données de réservation pour un hôtel, puis calcule \n",
    "le taux d'occupation, le taux de rotation, le nombre de réservations par jour, etc.\n",
    "\n",
    "11. Écrire un programme qui lit un fichier de données de transactions pour une banque, puis génère des rapports\n",
    "de transaction pour chaque client, y compris les dépôts, les retraits, les transferts, etc.\n",
    "\"\"\""
   ]
  },
  {
   "attachments": {},
   "cell_type": "markdown",
   "metadata": {},
   "source": [
    "<h1>TP sur la gestion d'exception</h1>"
   ]
  },
  {
   "attachments": {},
   "cell_type": "markdown",
   "metadata": {},
   "source": [
    "<h4>Compréhension du cours</h4>"
   ]
  },
  {
   "cell_type": "code",
   "execution_count": null,
   "metadata": {},
   "outputs": [],
   "source": [
    "\"\"\" \n",
    "1. Qu'est-ce qu'une exception en Python?\n",
    "2. Pourquoi est-il important de traiter les exceptions en Python?\n",
    "3. Qu'est-ce qu'un bloc try/except en Python et comment l'utiliser?\n",
    "4. Qu'est-ce qu'un bloc finally en Python et comment l'utiliser ?\n",
    "5. Comment pouvez-vous lever une exception en Python?\n",
    "6. Comment pouvez-vous gérer plusieurs types d'exceptions en Python?\n",
    "7. Comment pouvez-vous gérer les erreurs liées à l'ouverture et à la fermeture de fichiers en Python ?\n",
    "8. Qu'est ce que vous comprenez pas ces different mot clé : try/except, else, finally, assert, raise\n",
    "\"\"\""
   ]
  },
  {
   "attachments": {},
   "cell_type": "markdown",
   "metadata": {},
   "source": [
    "<h4>Utilisation des exceptions</h4>"
   ]
  },
  {
   "cell_type": "code",
   "execution_count": 8,
   "metadata": {},
   "outputs": [
    {
     "name": "stdout",
     "output_type": "stream",
     "text": [
      "3.1622776601683795\n"
     ]
    }
   ],
   "source": [
    "\"\"\" \n",
    "1. Écrire une fonction qui demande à l'utilisateur d'entrer un nombre entier, puis renvoie la racine carrée de ce nombre.\n",
    "2. Gérer l'exception si l'utilisateur entre un nombre négatif.\n",
    "3. Écrire une fonction qui prend en entrée une liste et un indice, et renvoie l'élément correspondant à l'indice.\n",
    "4. Gérer l'exception si l'indice est hors des limites de la liste.\n",
    "5. Écrire une fonction qui prend en entrée une chaîne de caractères représentant un nombre et renvoie sa valeur entière.\n",
    "6. Gérer l'exception si la chaîne de caractères ne représente pas un nombre.\n",
    "7. Écrire une fonction qui lit le contenu d'un fichier texte et le renvoie sous forme de chaîne de caractères. Gérer \n",
    "l'exception si le fichier n'existe pas.\n",
    "8. Écrire une fonction qui prend en entrée un dictionnaire et une clé, et renvoie la valeur correspondante. Gérer\n",
    "l'exception si la clé n'existe pas dans le dictionnaire.\n",
    "9. Écrire une fonction qui prend en entrée deux nombres et renvoie leur quotient. Gérer l'exception si le deuxième nombre\n",
    "est égal à zéro.\n",
    "10. Écrire une fonction qui prend en entrée une liste de nombres et renvoie leur somme. Gérer l'exception si la liste est vide.\n",
    "\"\"\"\n",
    "import math\n",
    "def racineCarre(nombre):\n",
    "    result = 0.0\n",
    "    try:\n",
    "        result = math.sqrt(nombre)\n",
    "        return result\n",
    "    except:\n",
    "        print(\"Erreur vous avez rentrez un nombre negatif\")\n",
    "print(racineCarre(10))"
   ]
  },
  {
   "cell_type": "code",
   "execution_count": 18,
   "metadata": {},
   "outputs": [
    {
     "name": "stdout",
     "output_type": "stream",
     "text": [
      "12\n"
     ]
    }
   ],
   "source": [
    "dic = {\"badjo\": 19, \"mohamed\":12, \"salim\":5}\n",
    "def cle(dic, cle):\n",
    "    valeur = None\n",
    "    try: \n",
    "        valeur = dic[cle]\n",
    "    except:\n",
    "        print(\"la cle n'existe pas\")\n",
    "    return valeur\n",
    "\n",
    "print(cle(dic, \"mohamed\"))"
   ]
  }
 ],
 "metadata": {
  "kernelspec": {
   "display_name": "dataDibe",
   "language": "python",
   "name": "python3"
  },
  "language_info": {
   "codemirror_mode": {
    "name": "ipython",
    "version": 3
   },
   "file_extension": ".py",
   "mimetype": "text/x-python",
   "name": "python",
   "nbconvert_exporter": "python",
   "pygments_lexer": "ipython3",
   "version": "3.9.13"
  },
  "orig_nbformat": 4,
  "vscode": {
   "interpreter": {
    "hash": "75dbf71912d99a26004bdb90912c7f3b14ef0f94220ad0c14bc23dd54a21f0a1"
   }
  }
 },
 "nbformat": 4,
 "nbformat_minor": 2
}
