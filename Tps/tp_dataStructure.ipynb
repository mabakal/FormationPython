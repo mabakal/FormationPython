{
 "cells": [
  {
   "attachments": {},
   "cell_type": "markdown",
   "metadata": {},
   "source": [
    "<h2>Travaux pratiques sur la struture de données et les fonctions</h2>"
   ]
  },
  {
   "cell_type": "code",
   "execution_count": 3,
   "metadata": {},
   "outputs": [
    {
     "name": "stdout",
     "output_type": "stream",
     "text": [
      "12\n"
     ]
    }
   ],
   "source": [
    "\"\"\" \n",
    "   1. Écrivez une fonction qui prend une liste de nombres en entrée et renvoie le nombre\n",
    "    le plus grand.\n",
    "\"\"\"\n",
    "# idée\n",
    "# considerer le premier élement comme le prix grand\n",
    "# comparé les élement suivant á cet élement considérer\n",
    "# si un éléments est plus grand que le considérer le changer par l'element\n",
    "# si non le garder\n",
    "\n",
    "def maxL(liste):\n",
    "    nombreMax  = liste[0]\n",
    "    for i in liste:\n",
    "        if i >= nombreMax:\n",
    "            nombreMax = i\n",
    "    return nombreMax\n",
    "liste = [1,2,-4, 12, 10]\n",
    "print(maxL(liste))"
   ]
  },
  {
   "cell_type": "code",
   "execution_count": 48,
   "metadata": {},
   "outputs": [
    {
     "name": "stdout",
     "output_type": "stream",
     "text": [
      "50\n",
      "50\n"
     ]
    }
   ],
   "source": [
    "l = [12, -100, 0, 14, 19, 50]\n",
    "print(maxL(l))\n",
    "print(max(l))"
   ]
  },
  {
   "cell_type": "code",
   "execution_count": 1,
   "metadata": {},
   "outputs": [
    {
     "name": "stdout",
     "output_type": "stream",
     "text": [
      "[9, 3, 1.4, 1, -4]\n",
      "[10, 9, 5, 1, 0, -6, -12]\n"
     ]
    }
   ],
   "source": [
    "\"\"\" \n",
    "    2. Les algorithmes de trie sont très important dans le traitement d'information, elle permettent\n",
    "    de ranger un grand volumes de données sur un critère données. Je donne un exemple supposons\n",
    "    on dispose d'un ensemble de notes d'étudiant non ordonnées, une algorithme de trie va permettre\n",
    "    de ranger liste de note. Il existe plusieurs type d'algorithme de trie. Une des plus simple est\n",
    "    le trie par sélection.\n",
    "    Votre exercice va permettre d'ecrire un algorithme de trie par selection. ( faite des recherches sur le web pour comprendre ce trie)\n",
    "\"\"\"\n",
    "# idée\n",
    "# ra\n",
    "def triSelection(notes):\n",
    "    for i in range(len(notes)):\n",
    "        max = notes[i]\n",
    "        maxIndice = i\n",
    "        for j in range(i+1, len(notes)):\n",
    "            if notes[j] > max:\n",
    "                max = notes[j]\n",
    "                maxIndice = j\n",
    "        if max!=notes[i]:\n",
    "            tmp = notes[i]\n",
    "            notes[i] = max\n",
    "            notes[maxIndice] = tmp\n",
    "    return notes\n",
    "print(triSelection([1, 3, 1.4,-4,9]))\n",
    "print(triSelection([1,5,-6, 10, -12, 0, 9]))"
   ]
  },
  {
   "cell_type": "code",
   "execution_count": 52,
   "metadata": {},
   "outputs": [
    {
     "name": "stdout",
     "output_type": "stream",
     "text": [
      "True\n"
     ]
    }
   ],
   "source": [
    "\"\"\" \n",
    "    3. J'ai une liste d'entier sous forme de liste, ecriver une fonction qui permettre de savoir \n",
    "    si un entier passer en parametre existe ou pas dans la liste\n",
    "\"\"\"\n",
    "# idée\n",
    "# parcourir la liste\n",
    "# comparer chaque élement avec le nombre en question\n",
    "# si le nombre existe c'est bon, retourné un true, sinon retourner un faux\n",
    "def existe(liste, nombre):\n",
    "    result = False\n",
    "    for i in liste:\n",
    "        if i == nombre:\n",
    "            result = True\n",
    "            break\n",
    "    return result\n",
    "print(existe([12, 4,6,-1, 9, 5], 4))"
   ]
  },
  {
   "cell_type": "code",
   "execution_count": 54,
   "metadata": {},
   "outputs": [
    {
     "data": {
      "text/plain": [
       "{'j': 2,\n",
       " 'e': 4,\n",
       " ' ': 8,\n",
       " 'd': 2,\n",
       " 'o': 5,\n",
       " 'n': 6,\n",
       " 'u': 4,\n",
       " 'f': 1,\n",
       " 'r': 2,\n",
       " 'm': 1,\n",
       " 'a': 2,\n",
       " 't': 2,\n",
       " 'i': 2,\n",
       " 'p': 1,\n",
       " 'y': 1,\n",
       " 'h': 3,\n",
       " \"'\": 1,\n",
       " 'á': 1,\n",
       " '2': 2}"
      ]
     },
     "execution_count": 54,
     "metadata": {},
     "output_type": "execute_result"
    }
   ],
   "source": [
    "\"\"\" \n",
    "    4. Écrivez une fonction qui prend une chaîne de caractères en entrée et renvoie un dictionnaire \n",
    "    contenant le nombre d'occurrences de chaque lettre dans la chaîne.\n",
    "\"\"\"\n",
    "# idée\n",
    "# crer un dictionnaire oú les clè sont des lettres et les valeurs leur occurences\n",
    "# parcourir la chaine charactère lettre par lettre\n",
    "# si la lettre existe, et n'est pas dans le dictionnaire, l'ajouter dans le dictionnaire et lui associé une valeur de 1\n",
    "# sinon incrémenter sa valeur\n",
    "def occurrence(chaine):\n",
    "    resultat = {}\n",
    "    for i in chaine:\n",
    "        trouve = False\n",
    "        for j in resultat.keys():\n",
    "            if i==j:\n",
    "                resultat[j] = resultat[j] +1\n",
    "                trouve = True\n",
    "                break\n",
    "        if trouve == False:\n",
    "            resultat[i] = 1\n",
    "    return resultat\n",
    "occurrence(\"je donne une formation en python aujourd'hui á 22h\")"
   ]
  },
  {
   "cell_type": "code",
   "execution_count": 57,
   "metadata": {},
   "outputs": [
    {
     "name": "stdout",
     "output_type": "stream",
     "text": [
      "[12, 4, 2, 0, 18, -10]\n"
     ]
    }
   ],
   "source": [
    "\"\"\" \n",
    "    5. Écrivez une fonction qui prend une liste de nombres en entrée et renvoie une nouvelle\n",
    "    liste contenant les nombres pairs de la liste d'origine en utilisant la comprehension des listes\n",
    "\"\"\"\n",
    "# idée\n",
    "# utilisé la comprehension des listes pour le faire\n",
    "def paire(l):\n",
    "    ok = [el for el in l if el%2 == 0]\n",
    "    return ok\n",
    "l = [12, 4, 2, 17, 0, 18, -10, 35]\n",
    "print(paire(l))"
   ]
  },
  {
   "cell_type": "code",
   "execution_count": 67,
   "metadata": {},
   "outputs": [
    {
     "name": "stdout",
     "output_type": "stream",
     "text": [
      "9\n"
     ]
    }
   ],
   "source": [
    "\"\"\" \n",
    "    6. Représenter un matrix d'ordre (n,m) en utilisant les listes. Donner seulement un exemple\n",
    "\"\"\"\n",
    "# idée\n",
    "# Imaginer comment on peut representer une matrix en utilisant les listes\n",
    "# étant donnée qu'une liste peut contenir n'importe quelle objet\n",
    "# créer un liste imbriquer\n",
    "matrix = [\n",
    "    [1,5,3,2],\n",
    "    [4,9,0,1],\n",
    "    [12,8,34,1], \n",
    "    [1,2,3,2]\n",
    "]\n",
    "m = [ \n",
    "    [1,0,0, 0],\n",
    "    [0,1,0,0],\n",
    "    [0,0,1,0],\n",
    "    [0,0,0,1],\n",
    "]\n",
    "print(matrix[1][1])"
   ]
  },
  {
   "cell_type": "code",
   "execution_count": 66,
   "metadata": {},
   "outputs": [
    {
     "name": "stdout",
     "output_type": "stream",
     "text": [
      "4\n"
     ]
    }
   ],
   "source": [
    "j = 0\n",
    "for i in m[0]:\n",
    "    j+=1\n",
    "print(j)"
   ]
  },
  {
   "cell_type": "code",
   "execution_count": 68,
   "metadata": {},
   "outputs": [
    {
     "data": {
      "text/plain": [
       "[[2, 5, 3, 2], [4, 10, 0, 1], [12, 8, 35, 1], [1, 2, 3, 3]]"
      ]
     },
     "execution_count": 68,
     "metadata": {},
     "output_type": "execute_result"
    }
   ],
   "source": [
    "\"\"\" \n",
    "    7. Ecris une fonction qui prends en parametre deux matrix et renvoie une nouvelle matrix\n",
    "    qui est la somme des initiaux\n",
    "    def sommeMat(m1, m2):\n",
    "    result = [[ (lm1[i] + lm2[i]) for lm1 in m1, lm2 in m2] for i len(m1[1])]\n",
    "\"\"\"\n",
    "# idée\n",
    "#  il est indispensable de récuper les ligne et colonne de la matrix\n",
    "# par courir les matrix\n",
    "# faire la sommes des cellule et les mettre dans une nouvelle matrix\n",
    "\n",
    "def sommeMat2(m1, m2):\n",
    "    col = 0\n",
    "    result = []\n",
    "    for k in m2[0]:\n",
    "        col+=1\n",
    "    for i in range(len(m1)):\n",
    "        ligne = []\n",
    "        for j in range(col):\n",
    "            ligne.append(m1[i][j] + m2[i][j])\n",
    "        result.append(ligne)\n",
    "    return result\n",
    "sommeMat2(matrix, m)"
   ]
  },
  {
   "cell_type": "code",
   "execution_count": null,
   "metadata": {},
   "outputs": [],
   "source": [
    "\"\"\"\n",
    "   8. Stocker des contacts téléphoniques dans un dictionnaire où le nom est la clé et \n",
    "   le numéro de téléphone est la valeur.\n",
    "\"\"\"\n",
    "contact = {\"badjo\":\"+212682386800\", \"aicha\":\"+22898243573\", \"koffi\":\"+22398231012\"}"
   ]
  },
  {
   "attachments": {},
   "cell_type": "markdown",
   "metadata": {},
   "source": [
    "<h2> Quelques problèmes réels</h2>"
   ]
  },
  {
   "cell_type": "code",
   "execution_count": 36,
   "metadata": {},
   "outputs": [
    {
     "name": "stdout",
     "output_type": "stream",
     "text": [
      "2022-01-01\n",
      "2022-01-01\n",
      "2022-01-01\n",
      "2022-01-02\n",
      "2022-01-02\n",
      "2022-01-02\n"
     ]
    }
   ],
   "source": [
    "\"\"\" \n",
    "    9 : Supposons que vous travaillez pour une entreprise de vente au détail qui souhaite analyser \n",
    "    ses ventes quotidiennes pour déterminer les produits les plus populaires. Vous disposez d'un \n",
    "    ensemble de données contenant les ventes quotidiennes pour chaque produit vendu, ainsi que \n",
    "    le prix de vente de chaque produit. Votre tâche consiste à écrire une fonction Python pour\n",
    "    déterminer le produit le plus populaire pour chaque jour, ainsi que le revenu total généré\n",
    "    par chaque produit.\n",
    "    ( je vous represente les données de l'entreprise ainsi)\n",
    "\"\"\"\n",
    "\n",
    "donnees = [\n",
    "    {'date': '2022-01-01', 'product': 'A', 'sales': 10, 'price': 5.0},\n",
    "    {'date': '2022-01-01', 'product': 'B', 'sales': 5, 'price': 2.5},\n",
    "    {'date': '2022-01-01', 'product': 'C', 'sales': 15, 'price': 1.0},\n",
    "    {'date': '2022-01-02', 'product': 'A', 'sales': 5, 'price': 5.0},\n",
    "    {'date': '2022-01-02', 'product': 'B', 'sales': 10, 'price': 2.5},\n",
    "    {'date': '2022-01-02', 'product': 'C', 'sales': 20, 'price': 1.0}\n",
    "]\n",
    "for i in donnees:\n",
    "    print(i[\"date\"])"
   ]
  },
  {
   "cell_type": "code",
   "execution_count": null,
   "metadata": {},
   "outputs": [],
   "source": [
    "\"\"\" \n",
    "    10. Supposons que vous travaillez pour une entreprise de gestion de stocks qui souhaite \n",
    "    analyser les niveaux de stocks de ses produits pour déterminer lesquels doivent être\n",
    "    réapprovisionnés. Vous disposez d'un ensemble de données contenant les niveaux de stocks \n",
    "    actuels pour chaque produit, ainsi que les niveaux de stocks minimum et maximum pour\n",
    "    chaque produit. Votre tâche consiste à écrire une fonction Python qui détermine quels \n",
    "    produits doivent être réapprovisionnés en fonction de leurs niveaux de stocks actuels.\n",
    "    (Je vous donne un exemple de representation de données)\n",
    "\"\"\"\n",
    "data = [\n",
    "    {'product': 'A', 'current_stock': 20, 'min_stock': 10, 'max_stock': 50},\n",
    "    {'product': 'B', 'current_stock': 5, 'min_stock': 5, 'max_stock': 20},\n",
    "    {'product': 'C', 'current_stock': 30, 'min_stock': 20, 'max_stock': 100}\n",
    "]\n",
    "\n"
   ]
  }
 ],
 "metadata": {
  "kernelspec": {
   "display_name": "dataDibe",
   "language": "python",
   "name": "python3"
  },
  "language_info": {
   "codemirror_mode": {
    "name": "ipython",
    "version": 3
   },
   "file_extension": ".py",
   "mimetype": "text/x-python",
   "name": "python",
   "nbconvert_exporter": "python",
   "pygments_lexer": "ipython3",
   "version": "3.9.13"
  },
  "orig_nbformat": 4
 },
 "nbformat": 4,
 "nbformat_minor": 2
}
