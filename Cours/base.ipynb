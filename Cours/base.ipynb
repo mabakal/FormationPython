{
 "cells": [
  {
   "cell_type": "markdown",
   "metadata": {},
   "source": [
    "<h1>Commencer avec python</h1>"
   ]
  },
  {
   "cell_type": "code",
   "execution_count": 11,
   "metadata": {},
   "outputs": [
    {
     "name": "stdout",
     "output_type": "stream",
     "text": [
      "Bienvenu a vous dans cette formation\n"
     ]
    }
   ],
   "source": [
    "print(\"Bienvenu a vous dans cette formation\")"
   ]
  },
  {
   "attachments": {},
   "cell_type": "markdown",
   "metadata": {},
   "source": [
    "<h3>Comment réconnaitre un fichier python</h3>\n",
    "<p>\n",
    "    Un fichier python est reconnu par l'extension <span>.py</span> à la fin du nom du fichier. Example <span style = \"color:red\">programme.py</span> <br>\n",
    "    est un fichier python, ceci va indiquer au système que ce fichier contient les instruction pyhton à executer.\n",
    "</p>"
   ]
  },
  {
   "attachments": {},
   "cell_type": "markdown",
   "metadata": {},
   "source": [
    "<h3>Syntax de python</h3>\n",
    "<p>\n",
    "    <ul>\n",
    "        <li>\n",
    "            <p>\n",
    "                En python, un ligne est une instruction en python, l'interpreteur parcours le code ligne par ligne pour exécuter <br>\n",
    "            les instructions\n",
    "            </p>\n",
    "        </li>\n",
    "        <li>\n",
    "            <p>\n",
    "                Pour exécuter une block d'instruction, toute ces instruction doit être indenté, c'est a dire le début de chaque <br>\n",
    "                instruction doivent être situé sur la même colonne. Ci dessous un exemple.\n",
    "            </p>\n",
    "        </li>\n",
    "    </ul>\n",
    "</p>"
   ]
  },
  {
   "cell_type": "code",
   "execution_count": 12,
   "metadata": {},
   "outputs": [
    {
     "name": "stdout",
     "output_type": "stream",
     "text": [
      "Noter la ligne suivante\n",
      "Ligne non indenté\n"
     ]
    }
   ],
   "source": [
    "# Exemple d'indentation\n",
    "\"\"\" ceci est un text de commentaire\"\"\"\n",
    "print(\"Noter la ligne suivante\")\n",
    "print(\"Ligne non indenté\")"
   ]
  },
  {
   "cell_type": "markdown",
   "metadata": {},
   "source": [
    "<h3>Les commentaires en python</h3>\n",
    "<p>\n",
    "    Les commentaire sont des lignes de texte écrites dans le code qui ne sont pas pris en compte par l'interpreteur. <br>\n",
    "    Pour écrire une ligne de commentaire, il suffit de débuté la ligne par un <span>#</span> <br>\n",
    "    pour ecrire un text de commentaire, il faut mettre le text entre les griffes.\n",
    "</p>"
   ]
  },
  {
   "cell_type": "code",
   "execution_count": 13,
   "metadata": {},
   "outputs": [
    {
     "name": "stdout",
     "output_type": "stream",
     "text": [
      "Ci dessus les commentaires\n"
     ]
    }
   ],
   "source": [
    "#print(\"je suis un commentaire d'une ligne\")\n",
    "\"\"\" \n",
    "    Je ne serais pas pris en compte par l'interpreteur python\n",
    "\"\"\"\n",
    "print(\"Ci dessus les commentaires\")"
   ]
  },
  {
   "attachments": {},
   "cell_type": "markdown",
   "metadata": {},
   "source": [
    "<h3>Notion de variable</h3>\n",
    "<p>\n",
    "    Les variables sont des contenaire d'information, de données occupant une espace dans la mémoir de l'ordinateur.</b>\n",
    "    il est identifier par son nom et à un type. <br>\n",
    "    Les règles de nommages d'une variable en python:\n",
    "    <ul>\n",
    "        <li>\n",
    "            Le nom d'une variable ne peut commencer qu'avec une lettre ou un underscore\n",
    "        </li>\n",
    "        <li>\n",
    "            Le nom d'une variable ne peut commencer par un chiffre\n",
    "        </li>\n",
    "        <li>\n",
    "            le nom d'une variable ne peut contenir que des charactère alpha-numerique\n",
    "        </li>\n",
    "        <li>\n",
    "            le nom d'une variable sont sensitive au case : <span>nom</span> est different de <span>Nom</span>\n",
    "        </li>\n",
    "        <li>\n",
    "            le nom d'une variable ne peut étre le mot clés reserver de python: Exemple <span>self, if, for</span>\n",
    "        </li>\n",
    "    </ul>\n",
    "    On peut:\n",
    "    <ul>\n",
    "        <li>\n",
    "            <h5>Déclarer une variable</h5>\n",
    "            <p>\n",
    "                C'est l'opération consistant à signaler au système d'exploitation de reserver une espace <br>\n",
    "                en python l'operation de déclaration consiste seulement a affecté une valeur à la variable.\n",
    "            </p>\n",
    "        </li>\n",
    "        <li>\n",
    "            <h5>Affecter une valeur</h5>\n",
    "            <p>\n",
    "                C'est l'opération consistant à changer la valeur, le contenu d'une variable données\n",
    "            </p>\n",
    "        </li>\n",
    "    </ul>\n",
    "    les variable sont de deux types :\n",
    "    <ul>\n",
    "        <li>\n",
    "            <h5>Les variable local</h5>\n",
    "            <p>Ces variables ne sont accessible que dans une partie du programme, comme son nom l'indique</p>\n",
    "        </li>\n",
    "        <li>\n",
    "            <h5>Les variable global</h5>\n",
    "            <p>\n",
    "                Ces variables sont accessible dans tous le programme. une variable global est précédé par le mot clé <br>\n",
    "                <span>global</span>.\n",
    "            </p>\n",
    "        </li>\n",
    "    </ul>\n",
    "</p>"
   ]
  },
  {
   "cell_type": "code",
   "execution_count": 14,
   "metadata": {},
   "outputs": [
    {
     "name": "stdout",
     "output_type": "stream",
     "text": [
      "la valeur de la variable 1 est : 0 avant affectation\n",
      "la valeur de la variable 1 devient : 4 apres avoir affecter\n"
     ]
    }
   ],
   "source": [
    "\"\"\" \n",
    "    Dans ce programme je vais déclarer une variable, l'initialisé puis lui affecté un valeur valeur d'un operation\n",
    "\"\"\"\n",
    "variable1 = 0\n",
    "print('la valeur de la variable 1 est :' ,variable1, 'avant affectation')\n",
    "var = 1 + 3\n",
    "variable1 = var\n",
    "print('la valeur de la variable 1 devient :', variable1, 'apres avoir affecter')"
   ]
  },
  {
   "cell_type": "code",
   "execution_count": 15,
   "metadata": {},
   "outputs": [
    {
     "ename": "NameError",
     "evalue": "name 'y' is not defined",
     "output_type": "error",
     "traceback": [
      "\u001b[0;31m---------------------------------------------------------------------------\u001b[0m",
      "\u001b[0;31mNameError\u001b[0m                                 Traceback (most recent call last)",
      "\u001b[1;32m/Users/dibe/Documents/GitHub/Formation/Python Formation/notionbasique.ipynb Cell 11\u001b[0m in \u001b[0;36m5\n\u001b[1;32m      <a href='vscode-notebook-cell:/Users/dibe/Documents/GitHub/Formation/Python%20Formation/notionbasique.ipynb#X13sZmlsZQ%3D%3D?line=2'>3</a>\u001b[0m \u001b[39mdef\u001b[39;00m \u001b[39msomme\u001b[39m():\n\u001b[1;32m      <a href='vscode-notebook-cell:/Users/dibe/Documents/GitHub/Formation/Python%20Formation/notionbasique.ipynb#X13sZmlsZQ%3D%3D?line=3'>4</a>\u001b[0m     y \u001b[39m=\u001b[39m \u001b[39m5\u001b[39m\n\u001b[0;32m----> <a href='vscode-notebook-cell:/Users/dibe/Documents/GitHub/Formation/Python%20Formation/notionbasique.ipynb#X13sZmlsZQ%3D%3D?line=4'>5</a>\u001b[0m \u001b[39mprint\u001b[39m(y)\n",
      "\u001b[0;31mNameError\u001b[0m: name 'y' is not defined"
     ]
    }
   ],
   "source": [
    "x = 0\n",
    "# la variable y n'est pas exessible car elle est local, propre à cette fonction\n",
    "def somme():\n",
    "    y = 5\n",
    "print(y)"
   ]
  },
  {
   "cell_type": "code",
   "execution_count": null,
   "metadata": {},
   "outputs": [
    {
     "name": "stdout",
     "output_type": "stream",
     "text": [
      "5\n"
     ]
    }
   ],
   "source": [
    "x = 0\n",
    "# ici y peut être accessible\n",
    "def somme():\n",
    "    global y \n",
    "    y = 5\n",
    "somme()\n",
    "print(y)"
   ]
  },
  {
   "attachments": {},
   "cell_type": "markdown",
   "metadata": {},
   "source": [
    "<h3>Les types de données</h3>\n",
    "<p>\n",
    "    il exisiste deux catégorie de types de données en python: les type primaire et les type complexe\n",
    "    <ul>\n",
    "        <li>\n",
    "            <h4>Les types primitifs</h4>\n",
    "            <p>\n",
    "                Les type primaire sont les type basic que données, ce sont les types de données lié au language et utilisé <br>\n",
    "                pour construire les types complexe. on a : <br>\n",
    "                <table>\n",
    "                    <thead>\n",
    "                        <tr>\n",
    "                            <th>Type </th>\n",
    "                            <th>Mot clé</th>\n",
    "                        </tr>\n",
    "                    </thead>\n",
    "                    <tbody>\n",
    "                        <tr>\n",
    "                            <td>Text</td>\n",
    "                            <td>str</td>\n",
    "                        </tr>\n",
    "                        <tr>\n",
    "                            <td>Type numerique</td>\n",
    "                            <td>int, float, complex</td>\n",
    "                        </tr>\n",
    "                        <tr>\n",
    "                            <td>boolean</td>\n",
    "                            <td>bool</td>\n",
    "                        </tr>\n",
    "                        <tr>\n",
    "                            <td>Type binaire</td>\n",
    "                            <td>bytes, bytearray, memoryview</td>\n",
    "                        </tr>\n",
    "                        <tr>\n",
    "                            <td>Sans type</td>\n",
    "                            <td>None</td>\n",
    "                        </tr>\n",
    "                    </tbody>\n",
    "                </table>\n",
    "            </p>\n",
    "        </li>\n",
    "       <li>\n",
    "        <h4>Les types complexe</h4>\n",
    "        <p>\n",
    "            Ce sont des types qui sont basé sur le type primaire. on a: <br>\n",
    "            <span> list, tuple, les dictionnaire, set, range</span>\n",
    "        </p>\n",
    "       </li> \n",
    "       <li>\n",
    "        <h4> Les types plus complex</h4>\n",
    "       </li>\n",
    "    </ul>\n",
    "</p>"
   ]
  },
  {
   "cell_type": "code",
   "execution_count": null,
   "metadata": {},
   "outputs": [
    {
     "name": "stdout",
     "output_type": "stream",
     "text": [
      "Mon nom est: BADJO\n",
      "J'ai obtenu: 16.8 en licence\n",
      "BADJO Togolaise  licence 16.8\n"
     ]
    },
    {
     "data": {
      "text/plain": [
       "float"
      ]
     },
     "execution_count": 11,
     "metadata": {},
     "output_type": "execute_result"
    }
   ],
   "source": [
    "# Les chaine de caractère sont écrit en griffe\n",
    "monNom = \"BADJO\"\n",
    "nationalite = \"Togolaise\"\n",
    "moyenne = 16.8\n",
    "niveauEtude = \"licence\"\n",
    "print(\"Mon nom est:\",monNom)\n",
    "print(\"J'ai obtenu:\",moyenne, \"en licence\")\n",
    "# concaténation est le fait de combiner plus text en une seul text, \n",
    "description = monNom + \" \" + nationalite +\" \"+ \" \"+ niveauEtude + \" \" + str(moyenne)\n",
    "print(description)\n",
    "type(moyenne)"
   ]
  },
  {
   "cell_type": "code",
   "execution_count": null,
   "metadata": {},
   "outputs": [
    {
     "name": "stdout",
     "output_type": "stream",
     "text": [
      "Avant la condition la valeur du bolean est: True\n",
      "apres la condition, la valeur du boolean est False\n"
     ]
    }
   ],
   "source": [
    "# un varible boolean peut prendre uniquement des valeur True ou False\n",
    "x = 3\n",
    "vrai = True\n",
    "print(\"Avant la condition la valeur du bolean est:\", vrai)\n",
    "vrai = False\n",
    "print(\"apres la condition, la valeur du boolean est\", vrai)"
   ]
  },
  {
   "cell_type": "code",
   "execution_count": null,
   "metadata": {},
   "outputs": [
    {
     "name": "stdout",
     "output_type": "stream",
     "text": [
      "notes des étudients {'garcia': 12.5, 'mohamed': 13.5, 'salim': 17, 'kodjo': 9}\n",
      "c'est l'ensemble de fuits ['banan', 'ananan', ' mangue']\n"
     ]
    }
   ],
   "source": [
    "# Type complexe\n",
    "fruits = list([\"banan\", \"ananan\", \" mangue\"])\n",
    "notes = dict({\"garcia\": 12.5, \"mohamed\":13.5, \"salim\":17, \"kodjo\":9})\n",
    "print(\"notes des étudients\",notes)\n",
    "print(\"c'est l'ensemble de fuits\",fruits)"
   ]
  },
  {
   "cell_type": "code",
   "execution_count": null,
   "metadata": {},
   "outputs": [
    {
     "name": "stdout",
     "output_type": "stream",
     "text": [
      "Garcia est un employé  de nationalité Angolaise résidant à Tétouane\n",
      "Maba est un employé  de nationalité Malienne résidant à Lomé\n",
      "La somme total des primes Garcia est 13400\n"
     ]
    }
   ],
   "source": [
    "# type plus complexe\n",
    "class Employe:\n",
    "    \"\"\"\n",
    "        Cette classe sert à creer des étudiant\n",
    "    \"\"\"\n",
    "    nom = \" \"\n",
    "    age = 0\n",
    "    nationalite = \" \"\n",
    "    sexe = \" \"\n",
    "    residence  = \" \"\n",
    "    prime = []\n",
    "\n",
    "    def __init__(self, nom, age, nationalite, sexe, residence) -> None:\n",
    "        self.age = age\n",
    "        self.nom = nom\n",
    "        self.nationalite = nationalite\n",
    "        self.sexe = sexe\n",
    "        self.residence = residence\n",
    "        self.prime = []\n",
    "    def addPrime(self, prime):\n",
    "        self.prime.append(prime)\n",
    "\n",
    "    def sommePrime(self):\n",
    "        prime = 0\n",
    "        for i in self.prime:\n",
    "            prime+=i\n",
    "        return prime\n",
    "    def __repr__(self) -> str:\n",
    "        return self.nom + \" est un employé  de nationalité \" + self.nationalite + \" résidant à \" +  self.residence\n",
    "    \n",
    "\n",
    "garcia = Employe(\"Garcia\", 19, \"Angolaise\", \"M\", \"Tétouane\")\n",
    "koffi = Employe(\"koffi\", 22, \"Malienne\", \"M\",\"Lomé\")\n",
    "\n",
    "print(garcia)\n",
    "print(koffi)\n",
    "garcia.addPrime(12200)\n",
    "garcia.addPrime(1200)\n",
    "print(\"La somme total des primes \" + garcia.nom + \" est \" + str(garcia.sommePrime()))\n"
   ]
  },
  {
   "cell_type": "markdown",
   "metadata": {},
   "source": [
    "<h3>Le castage</h3>\n",
    "<p>\n",
    "    Le castage est l'opération qui consiste à convertir un type vers un autre. pour le faire il suffit de mettre la variable entre <br>\n",
    "    parenthèse précéder par le type voulu\n",
    "</p>"
   ]
  },
  {
   "cell_type": "code",
   "execution_count": null,
   "metadata": {},
   "outputs": [
    {
     "data": {
      "text/plain": [
       "int"
      ]
     },
     "execution_count": 22,
     "metadata": {},
     "output_type": "execute_result"
    }
   ],
   "source": [
    "x = \"8\"\n",
    "y = 3\n",
    "z = x + str(y)\n",
    "z = str(y)\n",
    "type(y)"
   ]
  },
  {
   "attachments": {},
   "cell_type": "markdown",
   "metadata": {},
   "source": [
    "<h3>Les Opèrations en python</h3>\n",
    "<p>\n",
    "    Il existe plusieur type d'opération correspondant à nos opération quotidienne, elle sont appliquées sur les variables: <br>\n",
    "    <ul>\n",
    "        <li>Opérateurs arthmétiques</li>\n",
    "        <li>Opérateurs d'affectation</li>\n",
    "        <li>Opérateurs de comparaison</li>\n",
    "        <li>Opérateurs logique</li>\n",
    "        <li>Opérateurs d'identité</li>\n",
    "        <li>Opérateurs d'appartenance</li>\n",
    "    </ul>\n",
    "</p>"
   ]
  },
  {
   "attachments": {},
   "cell_type": "markdown",
   "metadata": {},
   "source": [
    "<h3>Opérateurs arthmetique</h3>"
   ]
  },
  {
   "attachments": {},
   "cell_type": "markdown",
   "metadata": {},
   "source": [
    "<p>\n",
    "    <table>\n",
    "        <thead>\n",
    "            <tr>\n",
    "                <th>Opérateur</th>\n",
    "                <th>Description</th>\n",
    "                <th>Exemple</th>\n",
    "            </tr>\n",
    "        </thead>\n",
    "        <tbody>\n",
    "            <tr>\n",
    "                <td>+</td>\n",
    "                <td>Addition</td>\n",
    "                <td>x + y</td>\n",
    "            </tr>\n",
    "            <tr>\n",
    "                <td>*</td>\n",
    "                <td>Multiplication</td>\n",
    "                <td>x*y</td>\n",
    "            </tr>\n",
    "            <tr>\n",
    "                <td>-</td>\n",
    "                <td>Soustraction</td>\n",
    "                <td>x - y</td>\n",
    "            </tr>\n",
    "            <tr>\n",
    "                <td>/</td>\n",
    "                <td>Division</td>\n",
    "                <td>x/y</td>\n",
    "            </tr>\n",
    "            <tr>\n",
    "                <td>%</td>\n",
    "                <td>Modulo</td>\n",
    "                <td>x%y</td>\n",
    "            </tr>\n",
    "            <tr>\n",
    "                <td>**</td>\n",
    "                <td>exponentielle</td>\n",
    "                <td>x**2</td>\n",
    "            </tr>\n",
    "            <tr>\n",
    "                <td>//</td>\n",
    "                <td>quotien</td>\n",
    "                <td>x//y</td>\n",
    "            </tr>\n",
    "        </tbody>\n",
    "    </table>\n",
    "</p>"
   ]
  },
  {
   "cell_type": "code",
   "execution_count": null,
   "metadata": {},
   "outputs": [
    {
     "name": "stdout",
     "output_type": "stream",
     "text": [
      "la division de x par y est : 2.25\n",
      "la multiplication de x par y est : 36\n",
      "l'addition de x par y est : 13\n",
      "la soustraction de x par y est : 5\n",
      "le reste de la quotien x par y est : 2\n"
     ]
    }
   ],
   "source": [
    "x = 9\n",
    "y = 4\n",
    "zd = x/y\n",
    "print(\"la division de x par y est :\", zd)\n",
    "zm = x*y\n",
    "print(\"la multiplication de x par y est :\", zm)\n",
    "za = x+y\n",
    "print(\"l'addition de x par y est :\", za)\n",
    "zs = x-y\n",
    "print(\"la soustraction de x par y est :\", zs)\n",
    "zr = x//y\n",
    "print(\"le reste de la quotien x par y est :\", zr)\n"
   ]
  },
  {
   "attachments": {},
   "cell_type": "markdown",
   "metadata": {},
   "source": [
    "<h3>Opérateur d'affectation</h3>"
   ]
  },
  {
   "attachments": {},
   "cell_type": "markdown",
   "metadata": {},
   "source": [
    "<p>\n",
    "Ces opération sont utilisé pour affecté une valeur à une variable. Si la variable contient une valeur, l'anciennce valeur de la variable est écrasé.\n",
    "</p>"
   ]
  },
  {
   "attachments": {},
   "cell_type": "markdown",
   "metadata": {},
   "source": [
    "<p>\n",
    "    <table>\n",
    "        <thead>\n",
    "            <tr>\n",
    "                <th>Opérateur</th>\n",
    "                <th>Example</th>\n",
    "                <th>Equivaut à</th>\n",
    "            </tr>\n",
    "        </thead>\n",
    "        <tbody>\n",
    "            <tr>\n",
    "                <td>=</td>\n",
    "                <td>x = 6</td>\n",
    "                <td>x = 5</td>\n",
    "            </tr>\n",
    "            <tr>\n",
    "                <td>+=</td>\n",
    "                <td>x+=3</td>\n",
    "                <td>x= x + 3</td>\n",
    "            </tr>\n",
    "            <tr>\n",
    "                <td>*=</td>\n",
    "                <td>x*=3</td>\n",
    "                <td>x=x*3</td>\n",
    "            </tr>\n",
    "            <tr>\n",
    "                <td>/=</td>\n",
    "                <td>x/=3</td>\n",
    "                <td>x= x/3</td>\n",
    "            </tr>\n",
    "            <tr>\n",
    "                <td>-=</td>\n",
    "                <td>x-=3</td>\n",
    "                <td>x= x-3</td>\n",
    "            </tr>\n",
    "        </tbody>\n",
    "    </table>\n",
    "</p>"
   ]
  },
  {
   "cell_type": "code",
   "execution_count": null,
   "metadata": {},
   "outputs": [
    {
     "name": "stdout",
     "output_type": "stream",
     "text": [
      "la valeur de x est: 8\n",
      "la nouvelle valeur de x est: 11\n"
     ]
    }
   ],
   "source": [
    "x = 8\n",
    "print(\"la valeur de x est:\", x)\n",
    "x+=3 # x = x + 3\n",
    "print(\"la nouvelle valeur de x est:\", x)"
   ]
  },
  {
   "attachments": {},
   "cell_type": "markdown",
   "metadata": {},
   "source": [
    "<h4>Opérateurs de comparaisons</h4>"
   ]
  },
  {
   "attachments": {},
   "cell_type": "markdown",
   "metadata": {},
   "source": [
    "<p>\n",
    "Parfois, il arriver de comparer des variables afin d'exécuter un ensemble d'instruction en conséquence, si vous êtes <br>\n",
    "confronter à cette situation, les opérateurs de comparaison vous seront très utils.\n",
    "</p>"
   ]
  },
  {
   "attachments": {},
   "cell_type": "markdown",
   "metadata": {},
   "source": [
    "<p>\n",
    "    <table>\n",
    "        <thead>\n",
    "            <tr>\n",
    "                <th>Opérateur</th>\n",
    "                <th>Nom</th>\n",
    "                <th>Example</th>\n",
    "            </tr>\n",
    "        </thead>\n",
    "        <tbody>\n",
    "            <tr>\n",
    "                <td>==</td>\n",
    "                <td>Egalité</td>\n",
    "                <td>x == y</td>\n",
    "            </tr>\n",
    "            <tr>\n",
    "                <td>></td>\n",
    "                <td>supériorité</td>\n",
    "                <td>x>y</td>\n",
    "            </tr>\n",
    "            <tr>\n",
    "                <td><</td>\n",
    "                <td>infériorité</td>\n",
    "                <td>x<y</td>\n",
    "            </tr>\n",
    "            <tr>\n",
    "                <td>!=</td>\n",
    "                <td>Inégalité</td>\n",
    "                <td>x!=</td>\n",
    "            </tr>\n",
    "            <tr>\n",
    "                <td><=</td>\n",
    "                <td>Infériorité ou égalité</td>\n",
    "                <td>x<=y</td>\n",
    "            </tr>\n",
    "            <tr>\n",
    "                <td>>=</td>\n",
    "                <td>supériorité ou égalité</td>\n",
    "                <td>x>=y</td>\n",
    "            </tr>\n",
    "        </tbody>\n",
    "    </table>\n",
    "</p>"
   ]
  },
  {
   "cell_type": "code",
   "execution_count": null,
   "metadata": {},
   "outputs": [
    {
     "name": "stdout",
     "output_type": "stream",
     "text": [
      "est ce que x est équivalent a y? False\n",
      "est ce que x est supérieur a y? False\n",
      "est ce que x est different de y? True\n"
     ]
    }
   ],
   "source": [
    "x = 5\n",
    "y = -4\n",
    "z1 = x==y\n",
    "print(\"est ce que x est équivalent a y?\", z1)\n",
    "z2 = x<y\n",
    "print(\"est ce que x est supérieur a y?\",z2)\n",
    "z3 = x!=y\n",
    "print(\"est ce que x est different de y?\",z3)\n"
   ]
  },
  {
   "attachments": {},
   "cell_type": "markdown",
   "metadata": {},
   "source": [
    "<h4>Opérateurs logique</h4>"
   ]
  },
  {
   "attachments": {},
   "cell_type": "markdown",
   "metadata": {},
   "source": [
    "<p>Ces opérateurs sont utilisé pour combiner des assertions.</p>"
   ]
  },
  {
   "attachments": {},
   "cell_type": "markdown",
   "metadata": {},
   "source": [
    "<p>\n",
    "    <table>\n",
    "        <thead>\n",
    "            <tr>\n",
    "                <th>Opérateur</th>\n",
    "                <th>Description</th>\n",
    "                <th>Example</th>\n",
    "            </tr>\n",
    "        </thead>\n",
    "        <tbody>\n",
    "            <tr>\n",
    "                <td>and</td>\n",
    "                <td>Il est vrais si les deux assertions sont vrai</td>\n",
    "                <td>x > 5 and y < 8</td>\n",
    "            </tr>\n",
    "            <tr>\n",
    "                <td>or</td>\n",
    "                <td>Il est vrai si une des assertions vrai</td>\n",
    "                <td>x == 7 or y <= -1</td>\n",
    "            </tr>\n",
    "            <tr>\n",
    "                <td>not</td>\n",
    "                <td>négativation, il retourn le contraire d'une assertions</td>\n",
    "                <td>not(x==9 and y < 9)<y</td>\n",
    "            </tr>\n",
    "        </tbody>\n",
    "    </table>\n",
    "</p>"
   ]
  },
  {
   "cell_type": "code",
   "execution_count": null,
   "metadata": {},
   "outputs": [
    {
     "name": "stdout",
     "output_type": "stream",
     "text": [
      "Est ce que x est compris en 8 et 11: False\n",
      "Est ce que x est superieur ou inferieur a 11: True\n"
     ]
    }
   ],
   "source": [
    "x = 8\n",
    "z1 = (x>8 and x<11)\n",
    "print(\"Est ce que x est compris en 8 et 11:\", z1)\n",
    "z2 = (x>8 or x<11)\n",
    "print(\"Est ce que x est superieur ou inferieur a 11:\", z2)"
   ]
  },
  {
   "attachments": {},
   "cell_type": "markdown",
   "metadata": {},
   "source": [
    "<h4>Opérateurs d'appartenance</h4>"
   ]
  },
  {
   "attachments": {},
   "cell_type": "markdown",
   "metadata": {},
   "source": [
    "<p>Ils sont utilisés pour tester l'appartenance d'un variable a un ensemble de valeurs</p>"
   ]
  },
  {
   "attachments": {},
   "cell_type": "markdown",
   "metadata": {},
   "source": [
    "<p>\n",
    "    <table>\n",
    "        <thead>\n",
    "            <tr>\n",
    "                <th>Opérateur</th>\n",
    "                <th>Description</th>\n",
    "                <th>Example</th>\n",
    "            </tr>\n",
    "        </thead>\n",
    "        <tbody>\n",
    "            <tr>\n",
    "                <td>in</td>\n",
    "                <td>Appartient à un ensemble de valeurs</td>\n",
    "                <td>x in [1,2,5,7,8,9]</td>\n",
    "            </tr>\n",
    "            <tr>\n",
    "                <td>not in</td>\n",
    "                <td>La non appartenance à un ensemble de valeur</td>\n",
    "                <td>x not in [\"maman\", \"papa\"]</td>\n",
    "            </tr>\n",
    "        </tbody>\n",
    "    </table>\n",
    "</p>"
   ]
  },
  {
   "cell_type": "code",
   "execution_count": null,
   "metadata": {},
   "outputs": [
    {
     "name": "stdout",
     "output_type": "stream",
     "text": [
      "x est dans y? True\n",
      "x n'est pas dans y: False\n"
     ]
    }
   ],
   "source": [
    "x = \"papa\"\n",
    "y = [\"maman\", \"frère\", \"tante\", \"cousin\", \"papa\"]\n",
    "z1 = x in y\n",
    "print(\"x est dans y?\", z1)\n",
    "z2 = x not in y\n",
    "print(\"x n'est pas dans y:\", z2)"
   ]
  },
  {
   "attachments": {},
   "cell_type": "markdown",
   "metadata": {},
   "source": [
    "<h4>Récuperer une données au clavier</h4>"
   ]
  },
  {
   "attachments": {},
   "cell_type": "markdown",
   "metadata": {},
   "source": [
    "<p>\n",
    "    Pour récupérer une donnée au clavier, on fait appel a la fonction input de pyhton, cette fonction va retourner une données de <br> type text ou string. On utilise le castage pour le convertir au type voulue.\n",
    "</p>"
   ]
  },
  {
   "cell_type": "code",
   "execution_count": null,
   "metadata": {},
   "outputs": [],
   "source": [
    "valeur = int(input())"
   ]
  },
  {
   "attachments": {},
   "cell_type": "markdown",
   "metadata": {},
   "source": []
  }
 ],
 "metadata": {
  "kernelspec": {
   "display_name": "dataDibe",
   "language": "python",
   "name": "python3"
  },
  "language_info": {
   "codemirror_mode": {
    "name": "ipython",
    "version": 3
   },
   "file_extension": ".py",
   "mimetype": "text/x-python",
   "name": "python",
   "nbconvert_exporter": "python",
   "pygments_lexer": "ipython3",
   "version": "3.9.13"
  },
  "orig_nbformat": 4,
  "vscode": {
   "interpreter": {
    "hash": "75dbf71912d99a26004bdb90912c7f3b14ef0f94220ad0c14bc23dd54a21f0a1"
   }
  }
 },
 "nbformat": 4,
 "nbformat_minor": 2
}
