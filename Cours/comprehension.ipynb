{
 "cells": [
  {
   "attachments": {},
   "cell_type": "markdown",
   "metadata": {},
   "source": [
    "<h2>Exercice sur la compréhension des notions de bases dans la programmation en python</h2>"
   ]
  },
  {
   "attachments": {},
   "cell_type": "markdown",
   "metadata": {},
   "source": [
    "<h4>Les variables et les opératieurs</h4>"
   ]
  },
  {
   "cell_type": "code",
   "execution_count": 1,
   "metadata": {},
   "outputs": [
    {
     "name": "stdout",
     "output_type": "stream",
     "text": [
      "bonjour\n"
     ]
    },
    {
     "ename": "NameError",
     "evalue": "name 'a' is not defined",
     "output_type": "error",
     "traceback": [
      "\u001b[0;31m---------------------------------------------------------------------------\u001b[0m",
      "\u001b[0;31mNameError\u001b[0m                                 Traceback (most recent call last)",
      "\u001b[1;32m/Users/dibe/Documents/GitHub/Formation/Python Formation/comprehension.ipynb Cell 3\u001b[0m in \u001b[0;36m2\n\u001b[1;32m     <a href='vscode-notebook-cell:/Users/dibe/Documents/GitHub/Formation/Python%20Formation/comprehension.ipynb#W2sZmlsZQ%3D%3D?line=17'>18</a>\u001b[0m \u001b[39mprint\u001b[39m(a)\n\u001b[1;32m     <a href='vscode-notebook-cell:/Users/dibe/Documents/GitHub/Formation/Python%20Formation/comprehension.ipynb#W2sZmlsZQ%3D%3D?line=18'>19</a>\u001b[0m \u001b[39mdel\u001b[39;00m a\n\u001b[0;32m---> <a href='vscode-notebook-cell:/Users/dibe/Documents/GitHub/Formation/Python%20Formation/comprehension.ipynb#W2sZmlsZQ%3D%3D?line=19'>20</a>\u001b[0m \u001b[39mprint\u001b[39m(a)\n",
      "\u001b[0;31mNameError\u001b[0m: name 'a' is not defined"
     ]
    }
   ],
   "source": [
    "\"\"\"\n",
    "1. Qu'est-ce qu'une variable en programmation ?\n",
    "2. Comment déclare-t-on une variable en Python ?\n",
    "3. Quels sont les types de variables que l'on peut utiliser en Python ?\n",
    "4. Comment affecter une valeur à une variable en Python?\n",
    "5. Comment modifier la valeur d'une variable existante en Python ?\n",
    "6. Comment supprimer une variable en Python ?\n",
    "7. Quelle est la différence entre une variable global et locla?\n",
    "8. Cite quatre condition que doit respecter le nom d'une variable en python\n",
    "9. Cite les différents catégorie de types de variable en python\n",
    "10. C'et quoi un opérateur arthmetique, les  citer\n",
    "11. C'et quoi un opérateur comparaison, les citer\n",
    "12. C'et quoi un opérateur d'affection, les citer\n",
    "12. C'et quoi un opérateur logique, les citer\n",
    "14. C'est quoi les opérateurs d'appartenance, les citer\n",
    "\"\"\"\n",
    "a = \"bonjour\"\n",
    "print(a)\n",
    "del a\n",
    "print(a)\n"
   ]
  },
  {
   "attachments": {},
   "cell_type": "markdown",
   "metadata": {},
   "source": [
    "<h4>Compréhension des structures répétitives et conditionnnelle</h4>"
   ]
  },
  {
   "cell_type": "code",
   "execution_count": null,
   "metadata": {},
   "outputs": [],
   "source": [
    "\"\"\" \n",
    "1. Quelle est la structure de base d'une boucle for en Python?\n",
    "2. Quelle est la structure de base d'une boucle while en Python ?\n",
    "3. Comment sortir d'une boucle en Python ?\n",
    "4. Qu'est-ce qu'une condition en Python ?\n",
    "5. Comment écrire une condition simple en Python?\n",
    "6. Comment écrire une condition avec plusieurs branches en Python?\n",
    "7. Comment écrire une condition avec plusieurs conditions imbriquées en Python ?\n",
    "8. Qu'est ce que vous dit ces mots clé : break, continue\n",
    "\"\"\"\n"
   ]
  },
  {
   "attachments": {},
   "cell_type": "markdown",
   "metadata": {},
   "source": [
    "<h4>Les structures de données</h4>"
   ]
  },
  {
   "cell_type": "code",
   "execution_count": 7,
   "metadata": {},
   "outputs": [
    {
     "name": "stdout",
     "output_type": "stream",
     "text": [
      "{'Ghana', 'Mali', 'Benin', 'Togo'}\n"
     ]
    }
   ],
   "source": [
    "\"\"\" \n",
    "1. Qu'est ce qu'une structure de données?\n",
    "2. Pour chacune de ces structures de données donner leur définition, un problème que peux être utilisé par elle,\n",
    "leur déclaration: liste, ensemble, dictionnaire, tuplet\n",
    "3. Quelle est la différence entre une liste et un tuple en Python?\n",
    "4. Comment ajouter un élément à une liste en Python?\n",
    "5. Comment accéder au dernier élément d'une liste en Python?\n",
    "6. Comment supprimer un élément d'une liste en Python?\n",
    "7. Comment accéder à une valeur dans un dictionnaire en Python?\n",
    "8. Comment supprimer une clé dans un dictionnaire en Python?\n",
    "9. comment parcourir un dictionnaire?\n",
    "10. Comment ajouter un élément à un ensemble en Python?\n",
    "11. Comment supprimer un élément d'un ensemble en Python?\n",
    "12. Comment vérifier si un élément appartient à un ensemble en Python?\n",
    "13. Comment obtenir la taille d'un ensemble en Python?\n",
    "14. Comment parcourir les éléments d'un ensemble en Python?\n",
    "15. Comment fusionner deux ensembles en Python?\n",
    "16. Comment copier un ensemble en Python?\n",
    "17. Comment créer un ensemble vide en Python?\n",
    "\"\"\"\n",
    "t = {\"Togo\", \"Mali\"}\n",
    "b = {\"Ghana\", \"Benin\", \"Togo\"}\n",
    "c = b.union(t)\n",
    "print(c)"
   ]
  },
  {
   "attachments": {},
   "cell_type": "markdown",
   "metadata": {},
   "source": [
    "<h4>Fonction et packages</h4>"
   ]
  },
  {
   "cell_type": "code",
   "execution_count": 11,
   "metadata": {},
   "outputs": [
    {
     "data": {
      "text/plain": [
       "10"
      ]
     },
     "execution_count": 11,
     "metadata": {},
     "output_type": "execute_result"
    }
   ],
   "source": [
    "\"\"\" \n",
    "1. Qu'est-ce qu'une fonction en Python?\n",
    "2. Comment définir une fonction en Python?\n",
    "3. Comment appeler une fonction en Python?\n",
    "4. Qu'est-ce qu'un paramètre en Python?\n",
    "5. Qu'est-ce qu'un argument en Python?\n",
    "6. Comment retourner une valeur à partir d'une fonction en Python?\n",
    "7. Comment définir des variables locales et globales en Python?\n",
    "8. Comment passer des paramètres facultatifs à une fonction en Python?\n",
    "9. Comment utiliser les fonctions lambda en Python?\n",
    "10. Comment importer des fonctions depuis un module en Python?\n",
    "11. Comment créer un package en Python?\n",
    "12. Qu'est-ce qu'un module en Python?\n",
    "13. Comment importer un module en Python?\n",
    "14. Comment importer des fonctions depuis un package en Python?\n",
    "\"\"\""
   ]
  }
 ],
 "metadata": {
  "kernelspec": {
   "display_name": "dataDibe",
   "language": "python",
   "name": "python3"
  },
  "language_info": {
   "codemirror_mode": {
    "name": "ipython",
    "version": 3
   },
   "file_extension": ".py",
   "mimetype": "text/x-python",
   "name": "python",
   "nbconvert_exporter": "python",
   "pygments_lexer": "ipython3",
   "version": "3.9.13"
  },
  "orig_nbformat": 4,
  "vscode": {
   "interpreter": {
    "hash": "75dbf71912d99a26004bdb90912c7f3b14ef0f94220ad0c14bc23dd54a21f0a1"
   }
  }
 },
 "nbformat": 4,
 "nbformat_minor": 2
}
