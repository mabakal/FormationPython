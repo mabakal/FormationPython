{
 "cells": [
  {
   "attachments": {},
   "cell_type": "markdown",
   "metadata": {},
   "source": [
    "<h2>Fichier et gestion d'exeption</h2>"
   ]
  },
  {
   "attachments": {},
   "cell_type": "markdown",
   "metadata": {},
   "source": [
    "<h3>Les fichiers</h3>"
   ]
  },
  {
   "attachments": {},
   "cell_type": "markdown",
   "metadata": {},
   "source": [
    "<h4> Aperçu</h4>"
   ]
  },
  {
   "attachments": {},
   "cell_type": "markdown",
   "metadata": {},
   "source": [
    "<p>\n",
    "    Un fichier, c'est un unité de stockage d'information persistant. Dans l'informatique tous est fichier, ce sont ces qui sont lut par le système d'exploitation pour résoudre les problèmes informatique, ou pour nos besoin personnel. Rappelez-vous d'un programme python, nos programme sont stockés dans des fichiers qui on une extension .py ce qui permet á notre système de la reconnaitre comme un ensemble d'instruction python.\n",
    "</p>"
   ]
  },
  {
   "attachments": {},
   "cell_type": "markdown",
   "metadata": {},
   "source": [
    "<h4>Les types de fichier</h4>"
   ]
  },
  {
   "attachments": {},
   "cell_type": "markdown",
   "metadata": {},
   "source": [
    "<p>\n",
    "Dépendant du contenue du fichier, il existe plusieurs types de fichier en informatique. Ce qui les caractérise est leur extension et leur contenue. Voici quelque example de fichier.\n",
    "    <ul>\n",
    "        <li>\n",
    "            <h4> Les fichier d'instruction des programme</h4>\n",
    "            <li>.py, .c, .java, .sh, .php, .html, .css, .ipynb etc</li>\n",
    "         </li>\n",
    "         <li> \n",
    "            <h4> Les fichiers multimédia</h4>\n",
    "            <li>Vidéo: .movi, Audio: .mp4, mp3, etc. Image: .jpeg, .png, etc</li>\n",
    "         </li>\n",
    "         <li>\n",
    "            <h4>Les fichiers text<h4>\n",
    "            <li>.txt, etc</li>\n",
    "         </li>\n",
    "         <li>\n",
    "            <h4>Les fichiers de données</h4>\n",
    "            <li>.csv, .json, . exel, etc</li>\n",
    "        </li>\n",
    "        <li>\n",
    "            <h4>Il en existe plusieurs, on s'arrete la</h4>\n",
    "        </li>\n",
    "    </ul>\n",
    "</p>"
   ]
  },
  {
   "attachments": {},
   "cell_type": "markdown",
   "metadata": {},
   "source": [
    "<h3> L'importance des fichiers</h3>"
   ]
  },
  {
   "attachments": {},
   "cell_type": "markdown",
   "metadata": {},
   "source": [
    "<p>\n",
    "Les fichiers ont une grande importance en informatique, on á l'habitude de dire qu'en informatique tout est fichier.\n",
    "Ceci est plus claire quant vous ouvrez vous dossier et vous verrez qu'il y a rien a part les fichiers.\n",
    "<ul>\n",
    "    <li>\n",
    "        Stockage de données\n",
    "    </li>\n",
    "    <li>\n",
    "        Partages de données\n",
    "    </li>\n",
    "    <li>\n",
    "        Sauvegarde de données\n",
    "    </li>\n",
    "    <li>etc</li>\n",
    "</ul>\n",
    "</p>"
   ]
  },
  {
   "attachments": {},
   "cell_type": "markdown",
   "metadata": {},
   "source": [
    "<h4>Opèrations sur les fichiers</h4>"
   ]
  },
  {
   "attachments": {},
   "cell_type": "markdown",
   "metadata": {},
   "source": [
    "<p>\n",
    "    On va étudier comment interagir avec les fichiers en programmation. Dans la pluspart des langages des programmation on manipule les fichiers en utilisant les opérations d'entré/sortion (input/output) en anglais. Ces opèrations inclus l'ouverture, ecriture, la lecture de données ainsi que la fermeture des fichiers, la recherche , la navigation etc.\n",
    "</p>"
   ]
  },
  {
   "attachments": {},
   "cell_type": "markdown",
   "metadata": {},
   "source": [
    "<h4> Ouverture des fichiers en python</h4>"
   ]
  },
  {
   "attachments": {},
   "cell_type": "markdown",
   "metadata": {},
   "source": [
    "<p> L'ouverture d'un fichiers en python est très simple et intiutif. Il suffit d'utilser la fonction open. cette fonction prendre\n",
    "deux parametre obligatures: le chemin vers le fichier et le mode d'ouverture.</p>"
   ]
  },
  {
   "cell_type": "code",
   "execution_count": 1,
   "metadata": {},
   "outputs": [],
   "source": [
    "fichier = open(\"example.txt\", \"r\")"
   ]
  },
  {
   "attachments": {},
   "cell_type": "markdown",
   "metadata": {},
   "source": [
    "<h4>Les parametres</h4>"
   ]
  },
  {
   "attachments": {},
   "cell_type": "markdown",
   "metadata": {},
   "source": [
    "<p>\n",
    "    <ul>\n",
    "        <li>\n",
    "            <h4> Le chemin du fichier</h4>\n",
    "            <p> \n",
    "                Le premier parametre est le nom/chemin vers le fichier. Si le fichier est dans le dossier de votre projet, dans le cas oú le système se situe ailleurs dans le système de fichier, il faut donner le chemin vers le fichier. Ce chemin peux être relative ou absolue.\n",
    "            </p>\n",
    "        </li>\n",
    "        <li>\n",
    "            <h4>Le mode d'ouverture</h4>\n",
    "            <p>\n",
    "            Le mode d'ouverutre est le type d'opération que sera effectuè sur le fichier. Dépendant du problème il different mode d'ouverture du fichier. Les mode les plus utilisé sont:\n",
    "            </p>\n",
    "            <ul>\n",
    "                <li> \"r\" : lecture (par defaut)</li>\n",
    "                <li>\"w\" : ecriture ( ce dernier ecrase les données du fichier s'il en existe en les remplacant par les nouvelles</li>\n",
    "                <li>\"a\" : Ajouter (Ajouter les données á la fin du fichier, si le fichier n'existe pas il le crée)</li>\n",
    "                <li>\"x\" : crée un nouveau fichier</li>\n",
    "                <li> \"b\" :  mode binaire</li>\n",
    "            <ul>\n",
    "        </li>\n",
    "     </ul>\n",
    "<p>"
   ]
  },
  {
   "attachments": {},
   "cell_type": "markdown",
   "metadata": {},
   "source": [
    "<p>\n",
    "Il y a trois étape obligatoire á tenir compte lors de la création de fichier:\n",
    "<ul>\n",
    "    <li>Ouverture</li>\n",
    "    <li>Opération</li>\n",
    "    <li>Fermeture</li>\n",
    "</ul>\n",
    "</p>"
   ]
  },
  {
   "attachments": {},
   "cell_type": "markdown",
   "metadata": {},
   "source": [
    "<h4>Quelques opérations sur les fichiers</h4>"
   ]
  },
  {
   "attachments": {},
   "cell_type": "markdown",
   "metadata": {},
   "source": [
    "<p>\n",
    "L'utilisation des fichiers est divers, dépendant des tâche que vous voulez réaliser, ici on va voir quelques example de tache.\n",
    "Pour cette example j'ai créer un fichier sur mon disque nommé example.txt c'est un fichier text contenant le nom prenoms la nationnalité et le note des étudiant. notre tache serait de réaliser les opérations basique des fichiers.\n",
    "</p>"
   ]
  },
  {
   "attachments": {},
   "cell_type": "markdown",
   "metadata": {},
   "source": [
    "<p>\n",
    "    Il y a different fonction pour effectuer les opèrations sur les fichiers. Pour avoir ces fonctions il faut utiliser un point juste après le nom du fichier ce qui vous donne l'accès á un ensemble de fonction sur les fichiers.\n",
    "</p>"
   ]
  },
  {
   "cell_type": "code",
   "execution_count": null,
   "metadata": {},
   "outputs": [],
   "source": [
    "\"\"\" \n",
    " On va ouvrir le fichier example que j'ai donnér\n",
    " ajouter les étudiant recu chez l'utilisateur\n",
    " et on le ferme\n",
    "\"\"\"\n",
    "f = open(\"example.txt\", \"a\")\n",
    "for i in range(2):\n",
    "    nom = input(\"Entrer le nom de l'étudiant \" + str(i + 1) + \":\")\n",
    "    prenoms = input(\"Entrer le prenoms de l'étudiant \" + str(i + 1)  + \":\")\n",
    "    nationnalité = input(\"Entrer la nationnalitéde l'étudiant \"+ str(i + 1) + \":\")\n",
    "    note = input(\"Entrer la note de l'étudiant \"+ str(i + 1) + \":\")\n",
    "    ligne = nom + \",\" + prenoms + \",\" + nationnalité + \",\" + note + \"\\n\"\n",
    "    f.writelines(ligne)\n",
    "f.close()"
   ]
  },
  {
   "cell_type": "code",
   "execution_count": 1,
   "metadata": {},
   "outputs": [
    {
     "name": "stdout",
     "output_type": "stream",
     "text": [
      "BADJO,Koffi,Togolaise,17\n",
      "\n",
      "Souleyman,Salim,Malien,16\n",
      "\n",
      "Salifou,Mohamed,Togolaise,17\n",
      "\n",
      "Aza,Dav,Finlandais,12\n",
      "\n"
     ]
    }
   ],
   "source": [
    "\"\"\" \n",
    "    Maintenant on va lire l'ensemble des noms dans le fichier et les affichés\n",
    "\"\"\"\n",
    "f2 = open(\"example.txt\", \"r\")\n",
    "for line in f2:\n",
    "    print(line)\n",
    "f2.close()"
   ]
  },
  {
   "attachments": {},
   "cell_type": "markdown",
   "metadata": {},
   "source": [
    "<h4>Le mot clé open</h4>"
   ]
  },
  {
   "attachments": {},
   "cell_type": "markdown",
   "metadata": {},
   "source": [
    "<p>Ouvrir un fichier et ne pas le fermer peux causer la pertes de données. A chaque fois que vous ouvrer un fichier n'oublié pas de la fermé. Pour remeridier a ce problème on utilise souvent une technique qui consiste á travailler sur une copie du fichier en utilisant le mot clé with. Il garantie la fermeture d'une ressource après son utilisation</p>"
   ]
  },
  {
   "cell_type": "code",
   "execution_count": 2,
   "metadata": {},
   "outputs": [
    {
     "name": "stdout",
     "output_type": "stream",
     "text": [
      "BADJO,Koffi,Togolaise,17\n",
      "\n",
      "Souleyman,Salim,Malien,16\n",
      "\n",
      "Salifou,Mohamed,Togolaise,17\n",
      "\n",
      "Aza,Dav,Finlandais,12\n",
      "\n"
     ]
    }
   ],
   "source": [
    "with open(\"example.txt\", \"r\") as f2:\n",
    "    for line in f2:\n",
    "        print(line)"
   ]
  },
  {
   "attachments": {},
   "cell_type": "markdown",
   "metadata": {},
   "source": [
    "<p>Ici ne sont que deux opération de lectures et d'écrire sur un fichier vous pouvez effectué d'autre opération</p>"
   ]
  },
  {
   "attachments": {},
   "cell_type": "markdown",
   "metadata": {},
   "source": [
    "<h2>Gestion d'exeption</h2>"
   ]
  },
  {
   "attachments": {},
   "cell_type": "markdown",
   "metadata": {},
   "source": [
    "<p> Le concepte d'exeption en python est très simple á comprendre, la programmation c'est l'art de résoudre les problèmes en et imaginant comment d'avance les fonctionnalité de l'outie. Supposons je veux créer un application qui gere les stockers d'une entreprise. Malgré que le logiciel n'est pas encore conçu, j'imagine les fonctionnalité, les tâches que faire le programme. Il arrive des fois qu'il y ait des imprévue, des erreurs innattendu qui peux causer l'arrêt du programme, comment gérer ces erreur d'avance? C'est la l'intervantion des exeptions. Une exeption est une eventuelle erreur qui peux survenir lors de l'execution d'un programme. Un example est l'utilisation de l'application whatsapp, ce application nécessite la connexion internet pour son fonctionnement. Supposons que l'utilisateur n'est pas connecté a internet, comment gérer ca?</p>"
   ]
  },
  {
   "attachments": {},
   "cell_type": "markdown",
   "metadata": {},
   "source": [
    "<h4>Try except</h4>"
   ]
  },
  {
   "attachments": {},
   "cell_type": "markdown",
   "metadata": {},
   "source": [
    "<p> \n",
    "Pour gérer les exception en python on utilise ces try et except. Dans try on met l'ensemble de code supseptible de générer une exception. Except quant á lui sert á levé l'exception c'est á dire á reserver un traitement en conséquence se qui va permettre que le programme ne s'interrompt pas. prénons ce example. Le code suivant géner une exception car on ne peux pas diviser par 0</p>"
   ]
  },
  {
   "cell_type": "code",
   "execution_count": 3,
   "metadata": {},
   "outputs": [
    {
     "ename": "ZeroDivisionError",
     "evalue": "division by zero",
     "output_type": "error",
     "traceback": [
      "\u001b[0;31m---------------------------------------------------------------------------\u001b[0m",
      "\u001b[0;31mZeroDivisionError\u001b[0m                         Traceback (most recent call last)",
      "\u001b[1;32m/Users/dibe/Documents/GitHub/Formation/Python Formation/fichier.ipynb Cell 30\u001b[0m in \u001b[0;36m1\n\u001b[0;32m----> <a href='vscode-notebook-cell:/Users/dibe/Documents/GitHub/Formation/Python%20Formation/fichier.ipynb#X41sZmlsZQ%3D%3D?line=0'>1</a>\u001b[0m \u001b[39mprint\u001b[39m(\u001b[39m1\u001b[39;49m\u001b[39m/\u001b[39;49m\u001b[39m0\u001b[39;49m)\n\u001b[1;32m      <a href='vscode-notebook-cell:/Users/dibe/Documents/GitHub/Formation/Python%20Formation/fichier.ipynb#X41sZmlsZQ%3D%3D?line=1'>2</a>\u001b[0m \u001b[39mprint\u001b[39m(\u001b[39m\"\u001b[39m\u001b[39mJ\u001b[39m\u001b[39m'\u001b[39m\u001b[39mai diviser par 0\u001b[39m\u001b[39m\"\u001b[39m)\n",
      "\u001b[0;31mZeroDivisionError\u001b[0m: division by zero"
     ]
    }
   ],
   "source": [
    "print(1/0)\n",
    "print(\"J'ai diviser par 0\")"
   ]
  },
  {
   "attachments": {},
   "cell_type": "markdown",
   "metadata": {},
   "source": [
    "<p>Ici une exception nommé ZeroDivisionError est lever, c'est á dire il est impossible de géer l'exception. Qu'est ce que ca á causer l'arrêt automatique du flux d'exécussion. Maintenant voyé comment on peux le géré.</p>"
   ]
  },
  {
   "cell_type": "code",
   "execution_count": 5,
   "metadata": {},
   "outputs": [
    {
     "name": "stdout",
     "output_type": "stream",
     "text": [
      "On ne peux diviser par zeros\n",
      "J'ai lever l'exception de division par zero\n"
     ]
    }
   ],
   "source": [
    "try:\n",
    "    print(1/0)\n",
    "except ZeroDivisionError:\n",
    "    print(\"On ne peux diviser par zeros\")\n",
    "print(\"J'ai lever l'exception de division par zero\")"
   ]
  },
  {
   "attachments": {},
   "cell_type": "markdown",
   "metadata": {},
   "source": [
    "<p>\n",
    "Ici on n'as pas spécifié le type d'exception qui á été lever. si on connais d'avance le type d'exception qui peux se produire\n",
    "on peux le spécifier dans except pour plus de précision.\n",
    "</p>"
   ]
  },
  {
   "cell_type": "code",
   "execution_count": 6,
   "metadata": {},
   "outputs": [
    {
     "name": "stdout",
     "output_type": "stream",
     "text": [
      "On ne peux diviser par zeros\n",
      "J'ai lever l'exception de division par zero\n"
     ]
    }
   ],
   "source": [
    "try:\n",
    "    print(1/0)\n",
    "except ZeroDivisionError:\n",
    "    print(\"On ne peux diviser par zeros\")\n",
    "print(\"J'ai lever l'exception de division par zero\")"
   ]
  },
  {
   "attachments": {},
   "cell_type": "markdown",
   "metadata": {},
   "source": [
    "<p>Comme vous l'avez déviner, la possibilitè de gérer plusieurs exception implique l'existance de different exception. Ces exception sont connue en commettant beucoup d'erreur en pratiquant. Je vais vous donner deux example et afin que vous puissiez voir comment on gère plusieur exception.</p>"
   ]
  },
  {
   "cell_type": "code",
   "execution_count": 7,
   "metadata": {},
   "outputs": [
    {
     "name": "stdout",
     "output_type": "stream",
     "text": [
      "Une variable n'existe pas\n",
      "J'ai lever l'exception de division par zero\n"
     ]
    }
   ],
   "source": [
    "try:\n",
    "    a = 3\n",
    "    print(b)\n",
    "    print(a/0)\n",
    "except ZeroDivisionError:\n",
    "    print(\"On ne peux diviser par zeros\")\n",
    "except NameError:\n",
    "    print(\"Une variable n'existe pas\")\n",
    "print(\"J'ai lever l'exception de division par zero\")"
   ]
  },
  {
   "attachments": {},
   "cell_type": "markdown",
   "metadata": {},
   "source": [
    "<h4>Quelque mot clé utils</h4>"
   ]
  },
  {
   "attachments": {},
   "cell_type": "markdown",
   "metadata": {},
   "source": [
    "<p>\n",
    "    <ul>\n",
    "        <li> \n",
    "            <h4> Else</h4>\n",
    "            <p>Il est utiliser pour exécuter un ensemble de codes si aucune exception n'est survenue</p>\n",
    "        </li>\n",
    "        <li>\n",
    "            <h4>Finally</h4>\n",
    "            <p> le block d'instruction s'excécute si il y a ou non une exception. </p>\n",
    "        </li>\n",
    "        <li>\n",
    "            <h4>raise</h4>\n",
    "            <p>Il est utilisè pour générer une exeption sans qu'on le lève</p>\n",
    "        </li>\n",
    "        <li>\n",
    "            <h4>assert</h4>\n",
    "            <p>\n",
    "             Comme son nom l'indique, il est utilisé pour définir des assertion, c'est á dire une affirmation qui peut être vrai ou faux\n",
    "            </p>\n",
    "        </li>\n",
    "    </ul>\n",
    "</p>"
   ]
  },
  {
   "cell_type": "code",
   "execution_count": 9,
   "metadata": {},
   "outputs": [
    {
     "name": "stdout",
     "output_type": "stream",
     "text": [
      "Il y a une erreur de type\n"
     ]
    }
   ],
   "source": [
    "a = \"5\"\n",
    "b = 10\n",
    "try:\n",
    "    c = a + b\n",
    "except TypeError:\n",
    "    print(\"Il y a une erreur de type\")\n",
    "else:\n",
    "    print(\"il y aucune erreur\")\n",
    "    print(c)"
   ]
  },
  {
   "cell_type": "code",
   "execution_count": 2,
   "metadata": {},
   "outputs": [
    {
     "name": "stdout",
     "output_type": "stream",
     "text": [
      "Il y a une erreur de type\n",
      "Mon exécution ne dépend de rien\n",
      "15\n"
     ]
    }
   ],
   "source": [
    "a = \"5\"\n",
    "b = 10\n",
    "try:\n",
    "    c = a + b\n",
    "except TypeError:\n",
    "    print(\"Il y a une erreur de type\")\n",
    "finally:\n",
    "    print(\"Mon exécution ne dépend de rien\")\n",
    "print(c)"
   ]
  },
  {
   "cell_type": "code",
   "execution_count": 11,
   "metadata": {},
   "outputs": [
    {
     "ename": "Exception",
     "evalue": "On ne récupère que les décimaux",
     "output_type": "error",
     "traceback": [
      "\u001b[0;31m---------------------------------------------------------------------------\u001b[0m",
      "\u001b[0;31mException\u001b[0m                                 Traceback (most recent call last)",
      "\u001b[1;32m/Users/dibe/Documents/GitHub/Formation/Python Formation/fichier.ipynb Cell 41\u001b[0m in \u001b[0;36m3\n\u001b[1;32m      <a href='vscode-notebook-cell:/Users/dibe/Documents/GitHub/Formation/Python%20Formation/fichier.ipynb#X55sZmlsZQ%3D%3D?line=0'>1</a>\u001b[0m i \u001b[39m=\u001b[39m \u001b[39m5\u001b[39m\n\u001b[1;32m      <a href='vscode-notebook-cell:/Users/dibe/Documents/GitHub/Formation/Python%20Formation/fichier.ipynb#X55sZmlsZQ%3D%3D?line=1'>2</a>\u001b[0m \u001b[39mif\u001b[39;00m \u001b[39mtype\u001b[39m(i) \u001b[39mis\u001b[39;00m \u001b[39mnot\u001b[39;00m \u001b[39mfloat\u001b[39m:\n\u001b[0;32m----> <a href='vscode-notebook-cell:/Users/dibe/Documents/GitHub/Formation/Python%20Formation/fichier.ipynb#X55sZmlsZQ%3D%3D?line=2'>3</a>\u001b[0m     \u001b[39mraise\u001b[39;00m \u001b[39mException\u001b[39;00m(\u001b[39m\"\u001b[39m\u001b[39mOn ne récupère que les décimaux\u001b[39m\u001b[39m\"\u001b[39m)\n",
      "\u001b[0;31mException\u001b[0m: On ne récupère que les décimaux"
     ]
    }
   ],
   "source": [
    "i = 5\n",
    "if type(i) is not float:\n",
    "    raise Exception(\"On ne récupère que les décimaux\")"
   ]
  },
  {
   "cell_type": "code",
   "execution_count": 13,
   "metadata": {},
   "outputs": [],
   "source": [
    "nom = \"BADJO\"\n",
    "assert nom == \"BADJO\", \"le nom devrait être BADJO\""
   ]
  }
 ],
 "metadata": {
  "kernelspec": {
   "display_name": "dataDibe",
   "language": "python",
   "name": "python3"
  },
  "language_info": {
   "codemirror_mode": {
    "name": "ipython",
    "version": 3
   },
   "file_extension": ".py",
   "mimetype": "text/x-python",
   "name": "python",
   "nbconvert_exporter": "python",
   "pygments_lexer": "ipython3",
   "version": "3.9.13"
  },
  "orig_nbformat": 4
 },
 "nbformat": 4,
 "nbformat_minor": 2
}
