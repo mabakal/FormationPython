{
 "cells": [
  {
   "attachments": {},
   "cell_type": "markdown",
   "metadata": {},
   "source": [
    "<h2>Introduction</h2>"
   ]
  },
  {
   "attachments": {},
   "cell_type": "markdown",
   "metadata": {},
   "source": [
    "<p> \n",
    "    Dans notre société actuelle, l'utilisation d'appareils électroniques tels que les ordinateurs, téléphones portables, tablettes, etc., est devenue indispensable dans nos activités quotidiennes. Ils nous facilitent grandement les tâches, permettant notamment d'augmenter la productivité, le rendement de nos activités, et d'améliorer notre performance, entre autres.\n",
    "    Ces appareils exécutent des tâches que l'homme serait parfois incapable de réaliser en termes de rapidité et de précision. Cependant, bien que la machine puisse effectuer des calculs rapidement, elle ne sait pas quoi faire ni comment le faire par elle-même. C'est l'homme qui dicte précisément quoi faire et comment accomplir une tâche.\n",
    "    Pour communiquer avec la machine et lui donner des instructions, l'homme utilise des langages de programmation. Ces langages permettent à l'homme de programmer et de donner des directives à la machine pour qu'elle les exécute.\n",
    "</p>"
   ]
  },
  {
   "attachments": {},
   "cell_type": "markdown",
   "metadata": {},
   "source": [
    "<h2>Les types de langages de programmation</h2>"
   ]
  },
  {
   "attachments": {},
   "cell_type": "markdown",
   "metadata": {},
   "source": [
    "<p>\n",
    "Les langages de programmation sont un ensemble de règles syntaxiques à suivre pour communiquer avec une machine. Il en existe plusieurs, chacun avec ses propres syntaxes et règles spécifiques. Maîtriser un langage de programmation signifie comprendre ces règles ainsi que sa philosophie.\n",
    "Ces langages sont classés dans différentes catégories en fonction de leurs caractéristiques et de leurs utilisations spécifiques.\n",
    "</p>"
   ]
  },
  {
   "attachments": {},
   "cell_type": "markdown",
   "metadata": {},
   "source": [
    "<h3> Sur le critère de compréhension par la machine</h3>"
   ]
  },
  {
   "attachments": {},
   "cell_type": "markdown",
   "metadata": {},
   "source": [
    "<p>\n",
    "    <ul>\n",
    "        <li>\n",
    "            <h4>langagaes de programmation de bas niveau</h4>\n",
    "            <p>\n",
    "            Également appelés langages de programmation machine ou langages d'assemblage, ces langages sont très proches du langage machine compris par l'ordinateur. Les instructions écrites dans ces langages sont directement exécutées par le processeur de l'ordinateur, ce qui les rend très efficaces en termes de performance. Cependant, ces langages sont souvent difficiles à apprendre et à utiliser car ils sont très dépendants de l'architecture matérielle du processeur et nécessitent une connaissance approfondie des registres et des adresses mémoire.\n",
    "             </p>\n",
    "        </li>\n",
    "        <li>\n",
    "            <h4>Les langages de programmation de haut niveau :</h4>\n",
    "            <p>\n",
    "                Les langages de haut niveau sont conçus pour être plus faciles à apprendre et à utiliser que les langages de bas niveau. Les programmes écrits dans ces langages sont traduits en langage machine par un compilateur ou un interpréteur, ce qui les rend compréhensibles par l'ordinateur. Les langages de haut niveau sont généralement plus abstraits que les langages de bas niveau, ce qui les rend plus portables et plus faciles à comprendre pour les humains. Exemples de langages de haut niveau : Python, Java, C++, JavaScript, Ruby, etc.\n",
    "            </p>\n",
    "        </li>\n",
    "    </ul>\n",
    "</p>"
   ]
  },
  {
   "attachments": {},
   "cell_type": "markdown",
   "metadata": {},
   "source": [
    "<h3> Sur le critère de l'approche du problème informatique (paradigme de progammation )</h3>"
   ]
  },
  {
   "attachments": {},
   "cell_type": "markdown",
   "metadata": {},
   "source": [
    "<p>\n",
    "Dépendamment du problème informatique, il existe différents types de langages de programmation pour le résoudre. Par exemple, un problème de traitement de l'information en appliquant des formules mathématiques diffère de celui consistant à envoyer une requête à une base de données pour demander une information spécifique. C'est pourquoi on distingue plusieurs types de paradigmes de programmation.\n",
    "    <ul>\n",
    "        <li>\n",
    "            <h4>Programmation impérative :</h4>\n",
    "            <p>\n",
    "            Ce paradigme est basé sur l'idée que le programme est une série d'instructions à exécuter séquentiellement. <br>\n",
    "            Les langages de programmation impératifs incluent le langage C et le langage Pascal.</p>\n",
    "        </li>\n",
    "        <li>\n",
    "            <h4>Programmation fonctionnelle </h4>\n",
    "            <p>\n",
    "                ce paradigme est basé sur l'idée que le programme est constitué de fonctions, qu'on fait appèle pour nos besoin<br>. Comme exemple on peut cité langage R\n",
    "            </p>\n",
    "        </li>\n",
    "        <li>\n",
    "            <h4>Programmation orientée objet :</h4>\n",
    "            <p>\n",
    "                Ce paradigme est basé sur l'idée que le programme est constitué d'objets qui interagissent les uns avec les autres. <br>\n",
    "                Les langages de programmation orientés objet incluent Java, Python, Ruby et C++.\n",
    "            </p>\n",
    "        </li>\n",
    "    </ul>\n",
    "</p>"
   ]
  },
  {
   "attachments": {},
   "cell_type": "markdown",
   "metadata": {},
   "source": [
    "<h3> L'algorithme</h3>"
   ]
  },
  {
   "attachments": {},
   "cell_type": "markdown",
   "metadata": {},
   "source": [
    "<p>\n",
    "    Pour développer une application similaire à Amazon, il est essentiel d'avoir une vision claire et précise de chaque étape du processus. C'est là qu'intervient l'algorithme : une description détaillée des opérations élémentaires nécessaires pour accomplir une tâche. L'algorithme n'est pas seulement pertinent en informatique, il est également utilisé dans des domaines tels que les mathématiques, la finance, la physique, et même dans nos activités quotidiennes, parfois sans que nous nous en rendions compte.\n",
    "</p>"
   ]
  },
  {
   "attachments": {},
   "cell_type": "markdown",
   "metadata": {},
   "source": [
    "<h2>Langages de programmation python</h2>"
   ]
  },
  {
   "attachments": {},
   "cell_type": "markdown",
   "metadata": {},
   "source": [
    "<p>\n",
    "    Python, langage de programmation orienté objet open source de haut niveau, connaît une popularité croissante depuis sa création en 1991 par Guido van Rossum.Quelques raisons de sa popularité\n",
    "</p>\n",
    "<p>\n",
    "    <ul>\n",
    "        <li>\n",
    "            <h4>Facile à apprendre et comprendre</h4>\n",
    "            <p>\n",
    "                Contrairement à d'autre langages de programmation dont les syntaxe sont parfois difficile à comprendre, ceux de python <br>\n",
    "                sont trés facile à écrire, claire et comprehensible par les débutants. En java par exemple, pour écrire un simple programme <br>\n",
    "                affichant un bonjour en console il faut écrire: <br>\n",
    "                <span style = \"color:red\">System.Out.println(\"bonjour tous le monde\");</span> <br>\n",
    "                alors en pyton simplement <span style = \"color:red\">print(\"bonjour\")</span>\n",
    "            </p>\n",
    "        </li>\n",
    "        <li>\n",
    "            <h4>Offre de nombreux bibliothèque open source</h4>\n",
    "            <p>\n",
    "                Une bibliothèque est un ensemble de programmes conçus pour résoudre un type de problème spécifique. Tout individu peut créer sa propre bibliothèque et décider de rendre le code source public ou non. Python gagne en popularité en grande partie grâce à la multitude de bibliothèques open source écrites en Python. Un exemple notable est pyTorch, une bibliothèque open source en Python qui propose des outils pour l'intelligence artificielle.\n",
    "            </p>\n",
    "        </li>\n",
    "        <li>\n",
    "            <h4>Il est multi-plateforme</h4>\n",
    "            <p>\n",
    "                Pour certains langages de programmation, si vous écrivez un logiciel sur la plateforme Windows qui fonctionne correctement, vous devrez  modifier le code source pour l'utiliser sur la plateforme Mac OS, par exemple. Ce n'est pas le cas avec Python, car son code source est indépendant de la plateforme.\n",
    "            </p>\n",
    "        </li>\n",
    "        <li>\n",
    "            <h4>Langages multidisplinaire</h4>\n",
    "            <p>\n",
    "            <p>Python peut être appliqué dans beaucoup de domain</p>\n",
    "                <ul>\n",
    "                    <li>Développement d'application Web</li>\n",
    "                    <li>Dèveloppement d'application mobile</li>\n",
    "                    <li>Sécuritè informatique</li>\n",
    "                    <li>La data science</li>\n",
    "                    <li>la finance</li>\n",
    "                    <li>Mathematique</li>\n",
    "                    <li>Physique</li>\n",
    "                    <li>etc ..</li>\n",
    "                </ul>\n",
    "            </p>\n",
    "        </li>\n",
    "    </ul>\n",
    "</p>"
   ]
  },
  {
   "attachments": {},
   "cell_type": "markdown",
   "metadata": {},
   "source": [
    "<h2>Préparation de l'environnement de travail</h2>\n"
   ]
  },
  {
   "attachments": {},
   "cell_type": "markdown",
   "metadata": {},
   "source": [
    "<p>\n",
    "    Pour pouvoir exécuter le programmation python, il faut disposer sur sa machine les outils nécessaire pour les faire <br>\n",
    "    fonctionner. Les programmes sont les suivants:\n",
    "</p>\n",
    "<p>\n",
    "    <ul>\n",
    "        <li>\n",
    "            <h4>L'interpreteur python</h4>\n",
    "            <p>\n",
    "                C'es un logiciel qui permet d'exécuter les programme python. Suiver ces étapes pour l'installation.\n",
    "            </p>\n",
    "            <p>\n",
    "                <ol>\n",
    "                    <li>\n",
    "                        <p>\n",
    "                            Aller sur le site officel de python <a href=\"https://www.python.org/downloads/\">Page de télèchargement de python</a> <br>\n",
    "                            et sélectionner votre plateforme.\n",
    "                        </p>\n",
    "                    </li>\n",
    "                    <li>\n",
    "                        <p>\n",
    "                            Une fois la plateforme sélectionner, vous verrez les differents versions de python, double cliquer pour <br>\n",
    "                            téléchargé une version.\n",
    "                        </p>\n",
    "                    </li>\n",
    "                    <li>\n",
    "                        Double cliquer sur le fichier téléchargé et Suiver les instructions pour l'installation\n",
    "                    </li>\n",
    "                </ol>\n",
    "            </p>\n",
    "        </li>\n",
    "        <li>\n",
    "            <h4>téléchargé Environnement de développement intégré IDE</h4>\n",
    "            <p>\n",
    "                Un IDE est un logiciel offrant une facilité à ecrir le code python. Il y a en plusieurs sur le marché <br>\n",
    "                mais moi j'utilise Visual Studio Code. <a href=\"https://code.visualstudio.com/download\"> cliquer ici pour la téléchargé</a>\n",
    "            </p>\n",
    "        </li>\n",
    "        <li>\n",
    "            <h4>Télécharger ananconda</h4>\n",
    "            <p>\n",
    "                Ananconda est un logiciel qui facilite l'installation des package python. <a href=\"https://docs.anaconda.com/anaconda/install/windows/\"> <br>\n",
    "                cliquer sur ce lien pour suivre les étapes pour l'installer</a>.\n",
    "            </p>\n",
    "        </li>\n",
    "        <li>\n",
    "            <h4> Télécharger jupyter notebook</h4>\n",
    "            <p>\n",
    "                Pour facilité la comprehension du cours, il est important d'executer le code interactivement. Jupyter note book est la  <br>\n",
    "                meilleur option. pour l'installer, apres avoir activé votre environnement anaconda exécuter <span>conda install -c anaconda jupyter</span>.\n",
    "            </p>\n",
    "        </li>\n",
    "    </ul>\n",
    "</p>"
   ]
  }
 ],
 "metadata": {
  "kernelspec": {
   "display_name": "dataDibe",
   "language": "python",
   "name": "python3"
  },
  "language_info": {
   "name": "python",
   "version": "3.9.13"
  },
  "orig_nbformat": 4
 },
 "nbformat": 4,
 "nbformat_minor": 2
}
