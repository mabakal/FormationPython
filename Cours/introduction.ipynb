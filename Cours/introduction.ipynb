{
 "cells": [
  {
   "attachments": {},
   "cell_type": "markdown",
   "metadata": {},
   "source": [
    "<h2>Introduction</h2>"
   ]
  },
  {
   "attachments": {},
   "cell_type": "markdown",
   "metadata": {},
   "source": [
    "<p> Dans notre société aujord'hui, il est indispensable d'utilisé les appareil électronique dans nos activité <br> \n",
    "quotidienne. Que ça soit les ordinateurs portables ou fixe, les téléphones portable, les tablettes etc, ils nous facilite <br> facilites énormement la vie, en ce qu'il permettent de :\n",
    "<ul> \n",
    "    <li> D'augmenter notre productivité</li>\n",
    "    <li> Augmenter le rendement de nos activités</li>\n",
    "    <li>Améliorer notre perfomance</li>\n",
    "    <li> etc ..</li>\n",
    "</ul>\n",
    "Ils réalisent des tâches, que parfois l'homme est incapable d'accomplir sur le critère de temps et de la perfection.<br> Malgrés cette puissance de la machine, il ne sait qu'opérer les calcules avec une grand rapidité, il ne peut savoir quoi faire et comment <br>lui seul, c'est l'homme qui lui dicte exactement quoi et comment réaliser une tâche. Mais comment est ce que l'homme communique avec la machine pour qu'il réalise ces tâches. Comme entre les humains il nous faut des langages pour communiquer et se comprendre, de même la machine commique avec l'homme est travers des langages appelé langages de programmation. C'est à l'aide de ces langages que l'homme arrive à programmer ou à donner des instruction à la machine pour être réaliser. \n",
    "</p>"
   ]
  },
  {
   "attachments": {},
   "cell_type": "markdown",
   "metadata": {},
   "source": [
    "<h2>Les types de langages de programmation</h2>"
   ]
  },
  {
   "attachments": {},
   "cell_type": "markdown",
   "metadata": {},
   "source": [
    "<p>C'est un ensemble de syntax de règle à respecter pour pouvoir communiquer avec la machine. Il y à plusieurs langages de programmation, et chacun avec ces syntax et règle à <br> respecter. Maitriser une langage de programmation c'est comprendre ces regles et sa phylosoplie. les langages de programmation sont classés dans divers catégories:</p>"
   ]
  },
  {
   "attachments": {},
   "cell_type": "markdown",
   "metadata": {},
   "source": [
    "<h3> Sur le critère de compréhension par la machine</h3>"
   ]
  },
  {
   "attachments": {},
   "cell_type": "markdown",
   "metadata": {},
   "source": [
    "<p>\n",
    "     Le langaga que de la machine est appelé le langages binaire. Il n'est constituer que des 0, et des 1. la machine ce n'est <br> qu'un ensemble de matériel électronique formant un circuit. qui parle de circuit par de courant élèctrique, tous <br>\n",
    "     évènement que la machine reçois est sous forme de courant. Le langage binaire est difficile à comprendre par l'homme <br>\n",
    " il faut  <br> un langages à la fois facile à comprendre par l'homme et la machine. \n",
    " On a distingue deux catégories de langages selon la compréhensibilité par l'homme:\n",
    "    <ul>\n",
    "        <li>\n",
    "            <h4>langagaes de programmation de bas niveau</h4>\n",
    "            <p>\n",
    "            également appelés langages de programmation machine ou langages d'assemblage, ces langages sont très proches<br>\n",
    "             du langage machine compris par l'ordinateur. Les instructions écrites dans ces langages sont directement exécutées <br>\n",
    "              par le processeur de l'ordinateur, ce qui les rend très efficaces en termes de performance. Cependant, ces langages <br>\n",
    "              sont souvent difficiles à apprendre et à utiliser car ils sont très dépendants de l'architecture matérielle <br>\n",
    "               du processeur et nécessitent une connaissance approfondie des registres et des adresses mémoire.\n",
    "             </p>\n",
    "        </li>\n",
    "        <li>\n",
    "            <h4>Les langages de programmation de haut niveau :</h4>\n",
    "            <p>\n",
    "                ces langages sont conçus pour être plus faciles à apprendre et à utiliser que les langages de bas niveau.<br>\n",
    "                 Les programmes écrits dans ces langages sont traduits en langage machine par un compilateur ou un interpréteur, <br>\n",
    "                qui les rendent compréhensibles par l'ordinateur. Les langages de haut niveau sont généralement plus abstraits que <br>\n",
    "                les langages de bas niveau, ce qui les rend plus portables et plus faciles à comprendre pour les humains. <br>\n",
    "                 Les exemples de langages de haut niveau sont Python, Java, C++, JavaScript, Ruby, etc.\n",
    "            </p>\n",
    "        </li>\n",
    "    </ul>\n",
    "</p>"
   ]
  },
  {
   "attachments": {},
   "cell_type": "markdown",
   "metadata": {},
   "source": [
    "<h3> Sur le critère de l'approche du problème informatique (paradigme de progammation )</h3>"
   ]
  },
  {
   "attachments": {},
   "cell_type": "markdown",
   "metadata": {},
   "source": [
    "<p>\n",
    "Dépendant du problème informatique, il existe different type de language de programmation pour résoudre ce dernier. <br>\n",
    "Un problème de traitment de l'information en appliquant les formules mathématiques, est different de celui consistant à <br>\n",
    "envoyer une requête à une base de données demandant une information précis: On distingue plusieurs type de paradigme de programmation: <br>\n",
    "    <ul>\n",
    "        <li>\n",
    "            <h4>Programmation impérative :</h4>\n",
    "            <p>\n",
    "            Ce paradigme est basé sur l'idée que le programme est une série d'instructions à exécuter séquentiellement. <br>\n",
    "            Les langages de programmation impératifs incluent le langage C et le langage Pascal.</p>\n",
    "        </li>\n",
    "        <li>\n",
    "            <h4>Programmation fonctionnelle </h4>\n",
    "            <p>\n",
    "                ce paradigme est basé sur l'idée que le programme est constitué de fonctions, qu'on fait appèle pour nos besoin<br>. Comme exemple on peut cité langage R\n",
    "            </p>\n",
    "        </li>\n",
    "        <li>\n",
    "            <h4>Programmation orientée objet :</h4>\n",
    "            <p>\n",
    "                Ce paradigme est basé sur l'idée que le programme est constitué d'objets qui interagissent les uns avec les autres. <br>\n",
    "                Les langages de programmation orientés objet incluent Java, Python, Ruby et C++.\n",
    "            </p>\n",
    "        </li>\n",
    "    </ul>\n",
    "</p>"
   ]
  },
  {
   "attachments": {},
   "cell_type": "markdown",
   "metadata": {},
   "source": [
    "<h3> L'algorithme</h3>"
   ]
  },
  {
   "attachments": {},
   "cell_type": "markdown",
   "metadata": {},
   "source": [
    "<p>\n",
    "    Supposons vous envisagez developpé un application comme répondant au fonctionnalité du site<span> d' AMAZON.</span> C'est une <br>\n",
    "    c'est un  projet complexe et se serait difficile de la réalisé sans avoir une idée bien claire et précis de comment effectué chaque tâche<br>\n",
    "    du système. C'est la notion d'algorithme: <span> C'est une description bien détaillé des opérations élémentaires d'une tâche à réalisé</span><br>\n",
    "    l'algorithme n'est pas seulement utilisé dans le domaine informatique, il est utilisé dans tous les domaines que ça soit en <br>\n",
    "    en mathématiques, finance, physique etc même dans nos tache quotidienne on l'utilise parfois sans se rendre compte.\n",
    "</p>"
   ]
  },
  {
   "attachments": {},
   "cell_type": "markdown",
   "metadata": {},
   "source": [
    "<h2>Langages de programmation python</h2>"
   ]
  },
  {
   "attachments": {},
   "cell_type": "markdown",
   "metadata": {},
   "source": [
    "<p>\n",
    "    Python est un langages de programmation orienté objet open source  de haut niveau dont la popularité ne cesse d'augmenté de nos jours <br>\n",
    "    il à été créer en 1991 par Guido van Rossum. Quelques raisons de sa popularité sont les suivantes:\n",
    "</p>\n",
    "<p>\n",
    "    <ul>\n",
    "        <li>\n",
    "            <h4>Facile à apprendre et comprendre</h4>\n",
    "            <p>\n",
    "                Contrairement à d'autre langages de programmation dont les syntaxe sont parfois difficile à comprendre, ceux de python <br>\n",
    "                sont trés facile à écrire, claire et comprehensible par les débutants. En java par exemple, pour écrire un simple programme <br>\n",
    "                affichant un bonjour en console il faut écrire: <br>\n",
    "                <span style = \"color:red\">System.Out.println(\"bonjour tous le monde\");</span> <br>\n",
    "                alors en pyton simplement <span style = \"color:red\">print(\"bonjour\")</span>\n",
    "            </p>\n",
    "        </li>\n",
    "        <li>\n",
    "            <h4>Offre de nombreux bibliothèque open source</h4>\n",
    "            <p>\n",
    "                Un bibliothèque est un ensemble de programme traiter un type de problème. <br> \n",
    "                Tous le monde peut écrire son propre librarie et décidé de le rendre le code source public ou non. <br>\n",
    "                une des popularité de python est que beaucoup de bibliothèque open source sont écrit en python. <br>\n",
    "                <span>pyTorch</span> est un bibliothèque open source de python offrant des outils pour l'intéligence artificielle\n",
    "            </p>\n",
    "        </li>\n",
    "        <li>\n",
    "            <h4>Il est multi-plateforme</h4>\n",
    "            <p>\n",
    "                Pour certain langages de programmation, si tu écrit un logiciel sur la plateforme Windows qui fonctionne correctement, <br>\n",
    "                pour utilisé se logiciel sur la plateforme  Mac Os par exemple tu vas devoir modifier le code source, ce qui n'est pas le cas <br>\n",
    "                python, son code source est indépendant du plateforme.\n",
    "            </p>\n",
    "        </li>\n",
    "        <li>\n",
    "            <h4>Langages multidisplinaire</h4>\n",
    "            <p>\n",
    "            <p>Python peut être appliqué dans beaucoup de domain</p>\n",
    "                <ul>\n",
    "                    <li>Développement d'application Web</li>\n",
    "                    <li>Dèveloppement d'application mobile</li>\n",
    "                    <li>Sécuritè informatique</li>\n",
    "                    <li>La data science</li>\n",
    "                    <li>la finance</li>\n",
    "                    <li>Mathematique</li>\n",
    "                    <li>Physique</li>\n",
    "                    <li>etc ..</li>\n",
    "                </ul>\n",
    "            </p>\n",
    "        </li>\n",
    "    </ul>\n",
    "</p>"
   ]
  },
  {
   "attachments": {},
   "cell_type": "markdown",
   "metadata": {},
   "source": [
    "<h2>Préparation de l'environnement de travail</h2>\n"
   ]
  },
  {
   "attachments": {},
   "cell_type": "markdown",
   "metadata": {},
   "source": [
    "<p>\n",
    "    Pour pouvoir exécuter le programmation python, il faut disposer sur sa machine les outils nécessaire pour les faire <br>\n",
    "    fonctionner. Les programmes sont les suivants:\n",
    "</p>\n",
    "<p>\n",
    "    <ul>\n",
    "        <li>\n",
    "            <h4>L'interpreteur python</h4>\n",
    "            <p>\n",
    "                C'es un logiciel qui permet d'exécuter les programme python. Suiver ces étapes pour l'installation.\n",
    "            </p>\n",
    "            <p>\n",
    "                <ol>\n",
    "                    <li>\n",
    "                        <p>\n",
    "                            Aller sur le site officel de python <a href=\"https://www.python.org/downloads/\">Page de télèchargement de python</a> <br>\n",
    "                            et sélectionner votre plateforme.\n",
    "                        </p>\n",
    "                    </li>\n",
    "                    <li>\n",
    "                        <p>\n",
    "                            Une fois la plateforme sélectionner, vous verrez les differents versions de python, double cliquer pour <br>\n",
    "                            téléchargé une version.\n",
    "                        </p>\n",
    "                    </li>\n",
    "                    <li>\n",
    "                        Double cliquer sur le fichier téléchargé et Suiver les instructions pour l'installation\n",
    "                    </li>\n",
    "                </ol>\n",
    "            </p>\n",
    "        </li>\n",
    "        <li>\n",
    "            <h4>téléchargé Environnement de développement intégré IDE</h4>\n",
    "            <p>\n",
    "                Un IDE est un logiciel offrant une facilité à ecrir le code python. Il y a en plusieurs sur le marché <br>\n",
    "                mais moi j'utilise Visual Studio Code. <a href=\"https://code.visualstudio.com/download\"> cliquer ici pour la téléchargé</a>\n",
    "            </p>\n",
    "        </li>\n",
    "        <li>\n",
    "            <h4>Télécharger ananconda</h4>\n",
    "            <p>\n",
    "                Ananconda est un logiciel qui facilite l'installation des package python. <a href=\"https://docs.anaconda.com/anaconda/install/windows/\"> <br>\n",
    "                cliquer sur ce lien pour suivre les étapes pour l'installer</a>.\n",
    "            </p>\n",
    "        </li>\n",
    "        <li>\n",
    "            <h4> Télécharger jupyter notebook</h4>\n",
    "            <p>\n",
    "                Pour facilité la comprehension du cours, il est important d'executer le code interactivement. Jupyter note book est la  <br>\n",
    "                meilleur option. pour l'installer, apres avoir activé votre environnement anaconda exécuter <span>conda install -c anaconda jupyter</span>.\n",
    "            </p>\n",
    "        </li>\n",
    "    </ul>\n",
    "</p>"
   ]
  }
 ],
 "metadata": {
  "kernelspec": {
   "display_name": "dataDibe",
   "language": "python",
   "name": "python3"
  },
  "language_info": {
   "name": "python",
   "version": "3.9.13"
  },
  "orig_nbformat": 4
 },
 "nbformat": 4,
 "nbformat_minor": 2
}
