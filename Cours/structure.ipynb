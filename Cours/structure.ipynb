{
 "cells": [
  {
   "cell_type": "markdown",
   "metadata": {},
   "source": [
    "<h2> Structure décisionnelle et répétitive </h2>"
   ]
  },
  {
   "cell_type": "markdown",
   "metadata": {},
   "source": [
    "<h3>Les Structures décisionnelles</h3>"
   ]
  },
  {
   "cell_type": "markdown",
   "metadata": {},
   "source": [
    "<p>Dans les processus de resolution de problèmes par un programme, il arrive qu'un ensemble d'instruction ne peux être excécuté que si <br> et seulement si une condition est vérifier. En bien python <br> nous offre la possibilité de créer des programme en tenant compte des décision.</p>"
   ]
  },
  {
   "cell_type": "markdown",
   "metadata": {},
   "source": [
    "<h3>If</h3>"
   ]
  },
  {
   "cell_type": "markdown",
   "metadata": {},
   "source": [
    "<p> If est le mot clé python désignant un condition. sont utilisation est la suivante: <br>\n",
    "\n",
    "</p>"
   ]
  },
  {
   "cell_type": "code",
   "execution_count": null,
   "metadata": {},
   "outputs": [],
   "source": [
    "\"\"\" \n",
    "if(condition):\n",
    "    instruction\n",
    "    instruction\n",
    "    ......\n",
    "\"\"\"\n",
    "\n",
    " # variable  1,2,4,3\n"
   ]
  },
  {
   "cell_type": "code",
   "execution_count": null,
   "metadata": {},
   "outputs": [],
   "source": [
    "\"\"\" \n",
    "    1. Comme exemple on va simuler les processus d'authentification d'un utlisateur (par exemple de facebook), on va identifier par \n",
    "    son nom et son prénoms.\n",
    "    2. Ecriver un programme qui permet de savoir si un nombre est divisible par deux ou pas\n",
    "\"\"\"\n",
    "nom = \"baba\"\n",
    "password = \"$_y12\"\n",
    "nomN = input(\"Entrer votre nom d'utilisateur:\")\n",
    "passwordN = input(\"Enter votre mot de pass\")\n",
    "if(nomN == nom) and (passwordN==password):\n",
    "    print(\"Voici votre espace\")\n",
    "# recuperer le nombre\n",
    "# Verifier\n",
    "nombre = input(\"Entrer votre nombre:\")\n",
    "if(nombre%2) == 0:\n",
    "    print(\"Ce nombre \", nombre, \" est divisible par deux\")\n",
    "a = input(\"entrer un nombre:\")\n",
    "type(a)"
   ]
  },
  {
   "cell_type": "markdown",
   "metadata": {},
   "source": [
    "<p>Le programme ne traite qu'un l'action effectuer si une condition est vérifier, Comment on s'y prend t-on si le programme nécessite un condition contraire?</p>"
   ]
  },
  {
   "cell_type": "markdown",
   "metadata": {},
   "source": [
    "<h3>Else</h3>"
   ]
  },
  {
   "cell_type": "markdown",
   "metadata": {},
   "source": [
    "<p>Elle est utilisé pour designer le cas la condition n'est pas vraie, il est utlisé de la même manière que if mais l'exception <br> qu'on a pas besoin d'une condition car c'est le cas contraire</p>"
   ]
  },
  {
   "cell_type": "code",
   "execution_count": null,
   "metadata": {},
   "outputs": [],
   "source": [
    "\"\"\" \n",
    "else:\n",
    "    instruction\n",
    "    instruction\n",
    "    ......\n",
    "\"\"\""
   ]
  },
  {
   "cell_type": "code",
   "execution_count": null,
   "metadata": {},
   "outputs": [],
   "source": [
    "\"\"\" \n",
    "    1. On termine le programme précedent en affichant un message en reponse d'authentification echoué\n",
    "    2. Ecrire un programme qui arrive à determiner le signe d'un entier reçu chez l'utilisateur.\n",
    "\"\"\"\n",
    "# question 1\n",
    "\n",
    "nom = \"baba\"\n",
    "password = \"$_y12\"\n",
    "nomN = input(\"Entrer votre nom d'utilisateur:\")\n",
    "passwordN = input(\"Enter votre mot de pass\")\n",
    "if(nomN == nom) and (passwordN==password):\n",
    "    print(\"Voici votre espace\")\n",
    "else:\n",
    "    print(\"Authenfication echoué\")\n",
    "\n",
    "# quesiton 2\n",
    "n = int(input(\"Entre un nombre:\"))\n",
    "\n",
    "if n < 0:\n",
    "    print(\"Ce nombre est negatif\")\n",
    "else:\n",
    "    print(\"ce nombre est positif\")"
   ]
  },
  {
   "cell_type": "markdown",
   "metadata": {},
   "source": [
    "<p>Noter qu'on peut imbriquer les structures conditionnelles c'est à dire qu'on peux mettre les if ou les else en l'intérieur <br> les uns les autres</p>"
   ]
  },
  {
   "cell_type": "code",
   "execution_count": null,
   "metadata": {},
   "outputs": [],
   "source": [
    "\"\"\" \n",
    "if(condition):\n",
    "    instruction\n",
    "    instruction\n",
    "    ......\n",
    "else:\n",
    "    if(conditon):\n",
    "        instruction\n",
    "        instruction\n",
    "        ....\n",
    "    else:\n",
    "        if(conditon):\n",
    "            instruction\n",
    "            instruction\n",
    "            ....\n",
    "        else:\n",
    "            instruction\n",
    "            instruction\n",
    "            .....\n",
    "\"\"\""
   ]
  },
  {
   "cell_type": "code",
   "execution_count": null,
   "metadata": {},
   "outputs": [],
   "source": [
    "\"\"\" \n",
    "    Ecrit un programme qui attribue une mention à un élève selon la note reçu au clavier\n",
    "\"\"\"\n",
    "moyenne = float(input(\"Entrer la moyenne de l'eleve:\"))\n",
    "if(moyenne < 12 and moyenne > 10):\n",
    "    print(\"Passable\")\n",
    "else:\n",
    "    if(moyenne >= 12 and moyenne <14):\n",
    "        print(\"Mention assez bien\")\n",
    "    else:\n",
    "        if(moyenne >= 14 and moyenne <16):\n",
    "            print(\"Bien\")\n",
    "        else:\n",
    "            print(\"Merci\")\n"
   ]
  },
  {
   "cell_type": "markdown",
   "metadata": {},
   "source": [
    "<h3>Elif</h3>"
   ]
  },
  {
   "cell_type": "markdown",
   "metadata": {},
   "source": [
    "<p>Pour faciliter l'implémentation des imbrications des structure décisonnelle, mot clé elif remple le if....else. L'imbrication<br> des structures décisionnelle suivant peux être réécris de la manière suivant:<p>"
   ]
  },
  {
   "cell_type": "code",
   "execution_count": null,
   "metadata": {},
   "outputs": [],
   "source": [
    "\"\"\"\n",
    "if(condition1):\n",
    "    instruction\n",
    "    instruction\n",
    "    ......\n",
    "elif(conditon2):\n",
    "    instruction\n",
    "    instruction\n",
    "    ....\n",
    "elif(conditon):\n",
    "    instruction\n",
    "    instruction\n",
    "    ....\n",
    "else:\n",
    "    instruction\n",
    "    instruction\n",
    "    .....\n",
    "\"\"\""
   ]
  },
  {
   "cell_type": "markdown",
   "metadata": {},
   "source": [
    "<h3>Les expressions ternaires</h3>"
   ]
  },
  {
   "cell_type": "markdown",
   "metadata": {},
   "source": [
    "<p>Si les instructions a exécuter selon les conditions ne sont pas beaucoup, une réduction d'écriture ce qu'on appelle <br> ce qu'on appelle les expressions ternaires.</p>"
   ]
  },
  {
   "cell_type": "code",
   "execution_count": null,
   "metadata": {},
   "outputs": [],
   "source": [
    "\"\"\"\n",
    "instruction if (condtion) else instruction\n",
    "\"\"\"\n",
    "a = \"recu\"\n",
    "print(\"Merci, j'ai bien reçu votre cadeau\")if(a==\"recu\")else print(\"Je n'ai pas encore reçu\")\n",
    "\n",
    "print(\"Ce nombre est negatif\") if n < 0 else print(\"ce nombre est positif\")"
   ]
  },
  {
   "cell_type": "markdown",
   "metadata": {},
   "source": [
    "<h3>Les structures répétitive</h3>\n",
    "\n",
    "<p>Qu'en est il si on veux répéter un ensemble d'instruction plusieurs fois, dans ce cas on utilise les structures répétitive <br> qui servent à respeter une des opérations plusieurs fois</p>"
   ]
  },
  {
   "cell_type": "markdown",
   "metadata": {},
   "source": [
    "<h3>while</h3>\n",
    "<p>while est un mot qui signifie tant que en francais, il sert à exécuter plusieurs fois un ensemble d'instruction tant qu'un<br> condition est toujours vérifier.</p>"
   ]
  },
  {
   "cell_type": "code",
   "execution_count": null,
   "metadata": {},
   "outputs": [],
   "source": [
    "\"\"\" \n",
    "while(condition):\n",
    "    instruction\n",
    "    instruction\n",
    "    .....\n",
    "\"\"\"\n",
    "monNom = \"Badjo\"\n",
    "condition = monNom == \"koffi\"\n",
    "print(condition)"
   ]
  },
  {
   "cell_type": "code",
   "execution_count": null,
   "metadata": {},
   "outputs": [],
   "source": [
    "\"\"\" \n",
    "    un petit programme qui affiche je continue de travaillé tant que ne n'ai pas encore réussi\n",
    "\"\"\"\n",
    "reussi = False\n",
    "i = 2\n",
    "while(reussi == False):\n",
    "    print(\"je continue de travaillé\")\n",
    "    i+=3\n",
    "    if i == 7:\n",
    "        reussi = True\n",
    "        print(\"enfin j'ai réussi\")"
   ]
  },
  {
   "cell_type": "code",
   "execution_count": null,
   "metadata": {},
   "outputs": [],
   "source": [
    "\"\"\" \n",
    "    Ecrit un programme qui demande a l'utilisateur d'entrer un nombre, \n",
    "\"\"\""
   ]
  },
  {
   "cell_type": "markdown",
   "metadata": {},
   "source": [
    "<h3>For</h3>"
   ]
  },
  {
   "cell_type": "markdown",
   "metadata": {},
   "source": [
    "<p>il signifie pour, il permet de parcourir un liste de d'object. On l'utilise pour effectué des opérations répétitive</p>"
   ]
  },
  {
   "cell_type": "code",
   "execution_count": null,
   "metadata": {},
   "outputs": [],
   "source": [
    "\"\"\"\n",
    "for elements in ensembles:\n",
    "    instruction\n",
    "    instruction\n",
    "    instruction\n",
    "    .....\n",
    "\"\"\"\n",
    "for i in [\"papa\", \"maman\"]:\n",
    "    print(\"je t'aime \", i)"
   ]
  },
  {
   "cell_type": "markdown",
   "metadata": {},
   "source": [
    "<h3>la fonction range</h3>"
   ]
  },
  {
   "cell_type": "markdown",
   "metadata": {},
   "source": [
    "<p>Cette fonction permet de générer un entier compris compris entre un intervalle</p>"
   ]
  },
  {
   "cell_type": "code",
   "execution_count": null,
   "metadata": {},
   "outputs": [],
   "source": [
    "\n",
    "for i in range(10):\n",
    "    print(i)"
   ]
  },
  {
   "cell_type": "markdown",
   "metadata": {},
   "source": [
    "<h3>Break mot clé</h3>\n",
    "<p>Break est utilisé pour interompre une boucle et sortir de cette dernier</p>"
   ]
  },
  {
   "cell_type": "code",
   "execution_count": null,
   "metadata": {},
   "outputs": [],
   "source": [
    "for i in range(10):\n",
    "    print(i)\n",
    "    if i == 5:\n",
    "        break"
   ]
  },
  {
   "cell_type": "markdown",
   "metadata": {},
   "source": [
    "<h3>continue</h3>"
   ]
  },
  {
   "cell_type": "markdown",
   "metadata": {},
   "source": [
    "<p>On utilise continue pour sauter un étape de la boucle et continuer a l'etape suivante</p>"
   ]
  },
  {
   "cell_type": "code",
   "execution_count": null,
   "metadata": {},
   "outputs": [],
   "source": [
    "for i in range(10):\n",
    "    if i == 5:\n",
    "        continue\n",
    "    print(\"ca commence \", i)"
   ]
  },
  {
   "cell_type": "markdown",
   "metadata": {},
   "source": [
    "<h3>Afficher un message sur l'ecran</h3>\n",
    "<p>Pour afficher un message en console, on utilise la fonction. le message est mis entre griffe, si le message necéssite <br> l'evaluation d'une variable, on separe la variable et le texte par un virgule</p>"
   ]
  },
  {
   "cell_type": "code",
   "execution_count": null,
   "metadata": {},
   "outputs": [],
   "source": [
    "nom = \"koffi\"\n",
    "moyenne = 15.7\n",
    "print(nom, \" A obtenu une moyenne de \", moyenne)"
   ]
  },
  {
   "cell_type": "markdown",
   "metadata": {},
   "source": [
    "<h2>Travaux pratique 1</h2>"
   ]
  },
  {
   "cell_type": "code",
   "execution_count": null,
   "metadata": {},
   "outputs": [],
   "source": [
    "\"\"\" \n",
    "    Quel est le type des variables suivante\n",
    "\"\"\"\n",
    "a = 1\n",
    "b = -1\n",
    "c = 3.45\n",
    "d = \"merci\"\n",
    "e = [2,4, \"ok\"]\n",
    "d = {2,4,6}\n",
    "f = {\"garcia\":1, True:False, 3.6:\"on vera\"}\n",
    "g = (1, 4, 6, 7)"
   ]
  },
  {
   "cell_type": "code",
   "execution_count": null,
   "metadata": {},
   "outputs": [],
   "source": [
    "\"\"\" \n",
    "    Ecrire un programme qui permutes la valeur de deux variable\n",
    "\"\"\"\n",
    "# votre algorithme, étape par étape\n",
    "#\n",
    "# votre code\n",
    "a = 12\n",
    "b = 3\n",
    "c = 52\n",
    "c = a\n",
    "a = b\n",
    "b = c\n",
    "print(\"a = \", a , \" b = \", b)"
   ]
  },
  {
   "cell_type": "code",
   "execution_count": null,
   "metadata": {},
   "outputs": [],
   "source": [
    "\"\"\" \n",
    "    1. Ecrit un code qui permet de savoir si une année reçu est bissextile ou pas\n",
    "    rappel:\n",
    "        Une année bissextile est une année comportant 366 jours au lieu de 365, il se reproduit toutes les 4 ans. il existe deux\n",
    "        Manière de savoir si une année est bissextile ou pas.\n",
    "        condition 1: l'année est divisible par 4 sans être divisible par 400\n",
    "        condition 2: l'année est divisible par 400\n",
    "    2. Réadapter le code pour lister toutes les années bissextile depuis 1900 jusqu'aujourd'hui\n",
    "    3. Réadapter le code pour lister les 4 prochaines années bissextile\n",
    "\"\"\"\n",
    "# votre algorithme, étape par étape\n",
    "# reception de l'année \n",
    "# tester si l'année est divisible par 4 sans être divisible par 400\n",
    "#  teser si l'année est divisible par 400\n",
    "# votre code\n",
    "# quesitoin 1\n",
    "year = int(input(\"Entrer une année:\"))\n",
    "if ((year%4 == 0) and (year%400 != 0)):\n",
    "    print(\"L'année \", year, \"est une année bissextile\")\n",
    "elif (year%400 == 0):\n",
    "    print(\"L'année \", year, \"est une année bissextile\")\n",
    "else:\n",
    "    print(\"L'année \", year, \"n'est une année bissextile\")\n",
    "\n",
    "# question 2\n",
    "for year in range(1900, 2024, 1):\n",
    "    if ((year%4 == 0) and (year%400 != 0)):\n",
    "        print(\"L'année \", year, \"est une année bissextile\")\n",
    "    elif (year%400 == 0):\n",
    "        print(\"L'année \", year, \"est une année bissextile\")\n",
    "    else:\n",
    "        print(\"L'année \", year, \"n'est une année bissextile\")\n",
    "\n",
    "# question 3\n",
    "nombreAnneebix = 0\n",
    "year = 2023\n",
    "while(nombreAnneebix < 5):\n",
    "    if ((year%4 == 0) and (year%400 != 0)):\n",
    "        print(\"L'année \", year, \"est une année bissextile\")\n",
    "        nombreAnneebix+= 1\n",
    "    elif (year%400 == 0):\n",
    "        print(\"L'année \", year, \"est une année bissextile\")\n",
    "        nombreAnneebix+= 1\n",
    "    else:\n",
    "        print(\"L'année \", year, \"n'est une année bissextile\")\n",
    "    year+=1\n"
   ]
  },
  {
   "cell_type": "code",
   "execution_count": null,
   "metadata": {},
   "outputs": [],
   "source": [
    "\"\"\"\n",
    "    Programme de résolution d'une equation du deuxième dégré.\n",
    "    Une equation du deuxieme dégré est une equation sous la forme: ax^2 + bx + c = 0 (avec a#0)\n",
    "    Dans ce programme on va résoudre cet équation en utilisant la méthode du discriminant. cette methode est la suivant\n",
    "    1. on calcule le discriminant delta = b^2 - 4ac\n",
    "    2.a Si le discriminant est inférieur a zero, la solution est complexe ( on ne tient pas compte de ce cas)\n",
    "    2.b Si le discriminant est égale a zéro, l'equation admet une solution double x_0 = -b/2a\n",
    "    2.c Si le discriminant est supérieur á zero, l'equation admet une solution double x_1 = (-b - racine(delta))/2a x_2 = (-b + racine(delta))/2a\n",
    "\"\"\"\n",
    "# votre algorithme, étape par étape\n",
    "# votre code\n",
    "import math\n",
    "a = int(input(\"Entre la valeur de a:\"))\n",
    "b = int(input(\"Entre la valeur de b:\"))\n",
    "c = int(input(\"Entre la valeur de c:\"))\n",
    "delta = (b**2 -  4*a*c)\n",
    "if(delta < 0):\n",
    "    print(\" Cas non traiter\")\n",
    "elif(delta == 0):\n",
    "    x = -b/(2*a)\n",
    "    print(\"L'equation admet une solution double qui est:\", x)\n",
    "else:\n",
    "    print(\"L'equation admet deux solutions\")\n",
    "    x1 = (-b - math.sqrt(delta))/ (2*a)\n",
    "    x2 = (-b + math.sqrt(delta))/ (2*a)\n",
    "    print(\"x1 = \", x1, \" x2 = \",x2)"
   ]
  },
  {
   "cell_type": "code",
   "execution_count": null,
   "metadata": {},
   "outputs": [],
   "source": [
    "\"\"\" \n",
    "    Ecrit un programme qui simule la devenitte d'un nombre comprie en 0 et 100, á chaque étape donner un indice à l'utilisateur\n",
    "    pour l'aider á trouver le nombre\n",
    "\"\"\"\n",
    "# votre algorithme, étape par étape\n",
    "# votre code\n",
    "import numpy as np # télécharger numpy \n",
    "nombre = np.random.randint(low= 0, high= 100) # cette instruction génère un nombre aléatoire compris entre 0 et 100\n",
    "nombre = np.random.randint(low= 0, high= 100) # cette instruction génère un nombre aléatoire compris entre 0 et 100\n",
    "monNombre = 0\n",
    "while(monNombre!=nombre):\n",
    "    if(monNombre > nombre):\n",
    "        print(\"Votre nombre est superieur au nombre a deviner\")\n",
    "    elif(monNombre < nombre):\n",
    "        print(\"Votre nombre est inferieur au nombre a deviner\")\n",
    "    monNombre = int(input(\"Entrer un autre nombre:\"))\n",
    "print(\"Bravo vous avez trouver le nombre et c'est:\", monNombre)"
   ]
  }
 ],
 "metadata": {
  "language_info": {
   "name": "python"
  },
  "orig_nbformat": 4
 },
 "nbformat": 4,
 "nbformat_minor": 2
}
